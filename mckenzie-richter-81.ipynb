{
 "cells": [
  {
   "cell_type": "code",
   "execution_count": 1,
   "metadata": {},
   "outputs": [],
   "source": [
    "%matplotlib inline\n",
    "import numpy as np\n",
    "import matplotlib.pyplot as plt\n",
    "from scipy import integrate\n",
    "from collections import Iterable"
   ]
  },
  {
   "cell_type": "code",
   "execution_count": 2,
   "metadata": {},
   "outputs": [],
   "source": [
    "g = 9.8 # gravity, m s^-2\n",
    "l = 2000e3 # mantle depth, m\n",
    "beta = 1/4\n",
    "D = 0.67 # prefactor\n",
    "kappa = 1e-6 # thermal diffusivity m^2 s^-1\n",
    "C_p = 1200 # specific heat capacity\n",
    "alpha = 2e-5 # thermal expansivity\n",
    "k = 3 # W m^-1 K^-1\n",
    "rho = 3000 # kg m^-3\n",
    "nu = 2e17 # kinematic viscosity, m^s s^-1\n",
    "T_s = 273 # surface temperature, K\n",
    "T_0 = 1600 # initial mantle temperature, K\n",
    "\n",
    "Gyr2s = 31557600*1e9 # time conversion"
   ]
  },
  {
   "cell_type": "code",
   "execution_count": 3,
   "metadata": {
    "code_folding": [
     22,
     67
    ]
   },
   "outputs": [
    {
     "name": "stdout",
     "output_type": "stream",
     "text": [
      "tf = 10.0 Gyr\n",
      "E0 0.2547558979854488\n"
     ]
    },
    {
     "data": {
      "image/png": "[encoded data removed]",
      "text/plain": [
       "<matplotlib.figure.Figure at 0x7fa02fe97780>"
      ]
     },
     "metadata": {},
     "output_type": "display_data"
    }
   ],
   "source": [
    "def Ra(T_a):\n",
    "    return g*alpha*T_a*l**3/(kappa*nu)\n",
    "\n",
    "def lid_thickness(T_a, E):\n",
    "    return k*T_a/(2*E)\n",
    "    \n",
    "def F_in(T_a, t=None, F0=None):\n",
    "    \"\"\"Heat flux per unit area through bottom of convecting layer\"\"\"\n",
    "    if F0 is None:\n",
    "        return k*(g*alpha/(kappa*nu))**(beta/(1 - beta)) * l**(4*beta/(1 - beta)) * (D*T_a)**(1/(1 - beta))\n",
    "    else:\n",
    "        return F0\n",
    "    \n",
    "\n",
    "def E_out(T_a):\n",
    "    \"\"\"Heat flux per unit area out of top of convecting layer\"\"\"\n",
    "    return k*(g*alpha/(kappa*nu))**(1/3) * (D*T_a)**(4/3)\n",
    "\n",
    "def H_in():\n",
    "    \"\"\"Internal heat generation per unit volume in convecting layer\"\"\"\n",
    "    return 0\n",
    "\n",
    "def T0_ss():\n",
    "    \"\"\"Steady state temperature to calculate initial fluxes where F0=3E0\"\"\"\n",
    "    return T\n",
    "\n",
    "def dTdt(t, T_avg, F0=None):\n",
    "    deltaT = T_avg - T_s\n",
    "    F = F_in(deltaT, t, F0)\n",
    "    E = E_out(deltaT)\n",
    "    H = H_in()\n",
    "    #print('t =',t/Gyr2s, 'Gyr, T_avg =', T_avg, 'K, F =',F,'W m^-2, E =', E, 'W m^-2') \n",
    "    #print('E/F', E/F)\n",
    "    return ((F - E) + H*l)/(rho*C_p*l)\n",
    "\n",
    "def evolve(tf=None, t0=0):\n",
    "    print('tf =',tf/Gyr2s, 'Gyr')\n",
    "    E0 = E_out(T_0-T_s)\n",
    "    print('E0', E0)\n",
    "    f = integrate.solve_ivp(fun=lambda t, y: dTdt(t, y, F0=E0/3), t_span=(t0,tf), y0=[T_0], method='RK45')\n",
    "\n",
    "    F = [F_in(f.y[0]-T_s, t=f.t, F0=E_out(T_0-T_s)/3)]*len(f.t)\n",
    "    E = E_out(np.array(f.y[0])-T_s)\n",
    "\n",
    "    \n",
    "    fig, axes = plt.subplots(2, 3, figsize=[7, 4])\n",
    "    plot_one(axes[0][0], f.t/Gyr2s, \n",
    "         f.y[0], \n",
    "         '', '$T_{a}$ (K)')\n",
    "    plot_one(axes[1][0], f.t/Gyr2s, \n",
    "         E/F, \n",
    "         'Age (Gyr)', '$E/F$', xticks=True)\n",
    "    plot_one(axes[0][1], f.t/Gyr2s, \n",
    "         F, \n",
    "         '', '$F_{in}$ (W m$^{-2}$)')\n",
    "    plot_one(axes[1][1], f.t/Gyr2s, \n",
    "         E, \n",
    "         'Age (Gyr)', '$E_{out}$ (W m$^{-2}$)', xticks=True)\n",
    "    plot_one(axes[0][2], f.t/Gyr2s, \n",
    "         lid_thickness(f.y[0]-T_s, E)*1e-3,\n",
    "         '', '$\\delta$ (km)')\n",
    "    plot_one(axes[1][2], f.t/Gyr2s, \n",
    "         np.log10(Ra(f.y[0]-T_s)),\n",
    "         'Age (Gyr)', 'log(Ra)', xticks=True)\n",
    "    plt.tight_layout()\n",
    "    return None\n",
    "\n",
    "def plot_one(ax, x, y, xlabel, ylabel, labelsize=12, legsize=14, lw=1, ls='-', marker=None, \n",
    "             ms=5,c='k', text=None, xticks=True, **kwargs):\n",
    "    if ax is None:\n",
    "        fig, ax = plt.subplots(1, 1, figsize=(3,3))\n",
    "    ax.set_xlabel(xlabel, fontsize=labelsize)\n",
    "    ax.set_ylabel(ylabel, fontsize=labelsize)\n",
    "    if not xticks:\n",
    "        ax.set_xticks([])\n",
    "    ax.plot(x, y, c=c, lw=lw, ls=ls, marker=marker, ms=ms)\n",
    "    ax.set_xlim(x.min(), x.max())\n",
    "    if text is not None:\n",
    "        ax.text(0.05, 0.95, text, ha='left', va='top', transform=ax.transAxes, fontsize=legsize)\n",
    "    return ax\n",
    "\n",
    "evolve(tf=10*Gyr2s)\n"
   ]
  },
  {
   "cell_type": "code",
   "execution_count": null,
   "metadata": {},
   "outputs": [],
   "source": []
  }
 ],
 "metadata": {
  "kernelspec": {
   "display_name": "Python 3",
   "language": "python",
   "name": "python3"
  },
  "language_info": {
   "codemirror_mode": {
    "name": "ipython",
    "version": 3
   },
   "file_extension": ".py",
   "mimetype": "text/x-python",
   "name": "python",
   "nbconvert_exporter": "python",
   "pygments_lexer": "ipython3",
   "version": "3.6.3"
  }
 },
 "nbformat": 4,
 "nbformat_minor": 2
}
