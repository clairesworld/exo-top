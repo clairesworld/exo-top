{
 "cells": [
  {
   "cell_type": "code",
   "execution_count": 5,
   "metadata": {},
   "outputs": [],
   "source": [
    "%matplotlib inline\n",
    "import numpy as np\n",
    "import matplotlib.pyplot as plt\n",
    "from scipy import integrate\n",
    "from collections import Iterable"
   ]
  },
  {
   "cell_type": "code",
   "execution_count": 2,
   "metadata": {},
   "outputs": [],
   "source": [
    "g = 9.8 # m s^-2\n",
    "l = 2000e3 # m\n",
    "beta = 1/4\n",
    "D = 0.67\n",
    "kappa = 1e-6 # m^2 s^-1\n",
    "C_p = 1200\n",
    "alpha = 2e-5\n",
    "k = 3\n",
    "rho = 3000\n",
    "nu = 2e17\n",
    "T_s = 273\n",
    "T_0 = 1800\n",
    "Gyr2s = 31557600*1e9"
   ]
  },
  {
   "cell_type": "code",
   "execution_count": 33,
   "metadata": {
    "code_folding": [
     26
    ]
   },
   "outputs": [
    {
     "name": "stdout",
     "output_type": "stream",
     "text": [
      "tf = 5e-06 Gyr\n",
      "E0 0.30719565329288456\n"
     ]
    },
    {
     "data": {
      "image/png": "[encoded data removed]",
      "text/plain": [
       "<matplotlib.figure.Figure at 0x7fdd2a9e13c8>"
      ]
     },
     "metadata": {},
     "output_type": "display_data"
    }
   ],
   "source": [
    "def Ra(T_a):\n",
    "    return g*alpha*T_a*l**3/(kappa*nu)\n",
    "\n",
    "def lid_thickness(T_a, E):\n",
    "    return k*T_a/(2*E)\n",
    "    \n",
    "def F_in(T_a, t=None, F0=None):\n",
    "    \"\"\"Heat flux per unit area through bottom of convecting layer\"\"\"\n",
    "    if F0 is None:\n",
    "        return k*(g*alpha/(kappa*nu))**(beta/(1 - beta)) * l**(4*beta/(1 - beta)) * (D*T_a)**(1/(1 - beta))\n",
    "    else:\n",
    "        return F0\n",
    "    \n",
    "\n",
    "def E_out(T_a):\n",
    "    \"\"\"Heat flux per unit area out of top of convecting layer\"\"\"\n",
    "    return k*(g*alpha/(kappa*nu))**(1/3) * (D*T_a)**(4/3)\n",
    "\n",
    "def H_in():\n",
    "    \"\"\"Internal heat generation per unit volume in convecting layer\"\"\"\n",
    "    return 0\n",
    "\n",
    "def T0_ss():\n",
    "    \"\"\"Steady state temperature to calculate initial fluxes where F0=3E0\"\"\"\n",
    "    return T\n",
    "\n",
    "def dTdt(t, T_avg, F0=None):\n",
    "    deltaT = T_avg - T_s\n",
    "    F = F_in(deltaT, t, F0)\n",
    "    E = E_out(deltaT)\n",
    "    H = H_in()\n",
    "    #print('t =',t/Gyr2s, 'Gyr, T_avg =', T_avg, 'K, F =',F,'W m^-2, E =', E, 'W m^-2') \n",
    "    #print('E/F', E/F)\n",
    "    return ((F - E) + H*l)/(rho*C_p)\n",
    "\n",
    "def evolve(tf=None, t0=0):\n",
    "    print('tf =',tf/Gyr2s, 'Gyr')\n",
    "    E0 = E_out(T_0-T_s)\n",
    "    print('E0', E0)\n",
    "    f = integrate.solve_ivp(fun=lambda t, y: dTdt(t, y, F0=E0/3), t_span=(t0,tf), y0=[T_0], method='RK45')\n",
    "\n",
    "    F = [F_in(f.y[0]-T_s, t=f.t, F0=E_out(T_0-T_s)/3)]*len(f.t)\n",
    "    E = E_out(np.array(f.y[0])-T_s)\n",
    "\n",
    "    \n",
    "    fig, ax = plt.subplots(2, 3)\n",
    "    ax[0][0].plot(f.t/Gyr2s*1e3, f.y[0], 'k')\n",
    "    ax[0][0].set_xlabel('Time (Myr)')\n",
    "    ax[0][0].set_ylabel('$T_{a}$ (K)')\n",
    "    ax[1][0].plot(f.t/Gyr2s*1e3, E/F, 'k')\n",
    "    ax[1][0].set_xlabel('Time (Myr)')\n",
    "    ax[1][0].set_ylabel('$E/F$')\n",
    "    ax[0][1].plot(f.t/Gyr2s*1e3, F, 'k')\n",
    "    ax[0][1].set_xlabel('Time (Myr)')\n",
    "    ax[0][1].set_ylabel('$F_{in}$ (W m$^{-2}$)')\n",
    "    ax[1][1].plot(f.t/Gyr2s*1e3, E, 'k')\n",
    "    ax[1][1].set_xlabel('Time (Myr)')\n",
    "    ax[1][1].set_ylabel('$E_{out}$ (W m$^{-2}$)')\n",
    "    ax[0][2].plot(f.t/Gyr2s*1e3,lid_thickness(f.y[0]-T_s, E)*1e-3, 'k')\n",
    "    ax[0][2].set_xlabel('Time (Myr)')\n",
    "    ax[0][2].set_ylabel('$\\delta$ (km)')\n",
    "    ax[1][2].plot(f.t/Gyr2s*1e3, Ra(f.y[0]-T_s), 'k')\n",
    "    ax[1][2].set_xlabel('Time (Myr)')\n",
    "    ax[1][2].set_ylabel('Ra')\n",
    "    plt.tight_layout()\n",
    "    return None\n",
    "\n",
    "evolve(tf=5e-6*Gyr2s)\n"
   ]
  },
  {
   "cell_type": "code",
   "execution_count": null,
   "metadata": {},
   "outputs": [],
   "source": []
  }
 ],
 "metadata": {
  "kernelspec": {
   "display_name": "Python 3",
   "language": "python",
   "name": "python3"
  },
  "language_info": {
   "codemirror_mode": {
    "name": "ipython",
    "version": 3
   },
   "file_extension": ".py",
   "mimetype": "text/x-python",
   "name": "python",
   "nbconvert_exporter": "python",
   "pygments_lexer": "ipython3",
   "version": "3.6.3"
  }
 },
 "nbformat": 4,
 "nbformat_minor": 2
}
