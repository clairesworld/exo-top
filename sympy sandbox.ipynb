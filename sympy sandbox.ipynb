{
 "cells": [
  {
   "cell_type": "code",
   "execution_count": 5,
   "metadata": {},
   "outputs": [],
   "source": [
    "import sympy as sp\n",
    "from sympy.solvers import solve\n",
    "T_avg = sp.Symbol('T_avg')\n",
    "c1 = sp.Symbol('c1')\n",
    "c2 = sp.Symbol('c2')\n",
    "T_l = sp.Symbol('T_l')\n",
    "T_s = sp.Symbol('T_s')\n",
    "a0 = sp.Symbol('a0')\n",
    "k_m = sp.Symbol('k_m')\n",
    "R_p = sp.Symbol('R_p')\n",
    "R_l = sp.Symbol('R_l')\n",
    "R_c = sp.Symbol('R_c')\n",
    "V = sp.Symbol('V')\n",
    "T_m = sp.Symbol('T_m')\n",
    "a_rh = sp.Symbol('a_rh')\n",
    "R_b = sp.Symbol('R_b')\n",
    "Ea = sp.Symbol('Ea')\n",
    "q_bl = sp.Symbol('q_bl')\n",
    "rho_m = sp.Symbol('rho_m')\n",
    "kappa_m = sp.Symbol('kappa_m')\n",
    "alpha_m = sp.Symbol('alpha_m')\n",
    "g_sfc = sp.Symbol('g_sfc')\n",
    "eta_0 = sp.Symbol('eta_0')\n",
    "T_0 = sp.Symbol('T_0')\n",
    "eta_m = sp.Symbol('eta_m')\n",
    "TBL_u = sp.Symbol('TBL_u')"
   ]
  },
  {
   "cell_type": "code",
   "execution_count": 3,
   "metadata": {},
   "outputs": [
    {
     "name": "stdout",
     "output_type": "stream",
     "text": [
      "T_m =  (Ea - sqrt(Ea*(Ea - 4*R_b*T_l*a_rh)))/(2*R_b*a_rh)\n"
     ]
    }
   ],
   "source": [
    "# expression for T_m\n",
    "\n",
    "# T_l = T_m - a_rh*(R_b*T_m**2/Ea)\n",
    "T_m = sp.solve(T_m - a_rh*(R_b*T_m**2/Ea) - T_l, T_m)[0]\n",
    "print('T_m = ', T_m)\n",
    "c1 = k_m*(T_l - T_s - a0/(6*k_m)*(R_p**2 - R_l**2))/(R_l**-1 - R_p**-1)\n",
    "c2 = T_s + a0/(6*k_m)*R_p**2 - c1/(k_m*R_p)\n"
   ]
  },
  {
   "cell_type": "code",
   "execution_count": 14,
   "metadata": {},
   "outputs": [
    {
     "name": "stdout",
     "output_type": "stream",
     "text": [
      "\n",
      " q_bl =  R_b*T_m**2*a_rh*k_m*(R_b*T_m**2*a_rh*alpha_m*g_sfc*rho_m*exp(-Ea*(1/T_m - 1/T_0)/R_b)/(Ea*eta_0*kappa_m))**0.333333333333333/Ea\n",
      "\n",
      " dq_bl/dT_m = eta_0*k_m*kappa_m*(R_b*T_m**2*a_rh*alpha_m*g_sfc*rho_m*exp(-Ea*(1/T_m - 1/T_0)/R_b)/(Ea*eta_0*kappa_m))**0.333333333333333*(0.333333333333333*a_rh*alpha_m*g_sfc*rho_m*exp(-Ea*(1/T_m - 1/T_0)/R_b)/(eta_0*kappa_m) + 0.666666666666667*R_b*T_m*a_rh*alpha_m*g_sfc*rho_m*exp(-Ea*(1/T_m - 1/T_0)/R_b)/(Ea*eta_0*kappa_m))*exp(Ea*(1/T_m - 1/T_0)/R_b)/(alpha_m*g_sfc*rho_m) + 2*R_b*T_m*a_rh*k_m*(R_b*T_m**2*a_rh*alpha_m*g_sfc*rho_m*exp(-Ea*(1/T_m - 1/T_0)/R_b)/(Ea*eta_0*kappa_m))**0.333333333333333/Ea\n",
      "\n",
      " dq_bl/deta_0 = -0.333333333333333*R_b*T_m**2*a_rh*k_m*(R_b*T_m**2*a_rh*alpha_m*g_sfc*rho_m*exp(-Ea*(1/T_m - 1/T_0)/R_b)/(Ea*eta_0*kappa_m))**0.333333333333333/(Ea*eta_0)\n",
      "\n",
      " dq_bl/dEa = eta_0*k_m*kappa_m*(R_b*T_m**2*a_rh*alpha_m*g_sfc*rho_m*exp(-Ea*(1/T_m - 1/T_0)/R_b)/(Ea*eta_0*kappa_m))**0.333333333333333*(-0.333333333333333*T_m**2*a_rh*alpha_m*g_sfc*rho_m*(1/T_m - 1/T_0)*exp(-Ea*(1/T_m - 1/T_0)/R_b)/(Ea*eta_0*kappa_m) - 0.333333333333333*R_b*T_m**2*a_rh*alpha_m*g_sfc*rho_m*exp(-Ea*(1/T_m - 1/T_0)/R_b)/(Ea**2*eta_0*kappa_m))*exp(Ea*(1/T_m - 1/T_0)/R_b)/(alpha_m*g_sfc*rho_m) - R_b*T_m**2*a_rh*k_m*(R_b*T_m**2*a_rh*alpha_m*g_sfc*rho_m*exp(-Ea*(1/T_m - 1/T_0)/R_b)/(Ea*eta_0*kappa_m))**0.333333333333333/Ea**2\n",
      "\n",
      " dyn_top_rms = C*(alpha_m*eta_0*kappa_m*q_bl*exp(Ea*(1/T_m - 1/T_0)/R_b)/(g_sfc*k_m*rho_m))**0.5\n"
     ]
    }
   ],
   "source": [
    "# expression for q_bl = f(T_m, eta_0, Ea...)\n",
    "sp.init_printing()\n",
    "T_m = sp.Symbol('T_m')\n",
    "q_bl = sp.Symbol('q_bl')\n",
    "T_l_exp = T_m - a_rh*(R_b*T_m**2/Ea)\n",
    "TBL_u_exp = (rho_m*g_sfc*alpha_m*(T_m - T_l)/(eta_m*kappa_m))**(-1/3)\n",
    "eta_m_exp = eta_0*sp.exp(Ea/R_b * (T_m**-1 - T_0**-1))\n",
    "q_bl_exp = k_m*(T_m - T_l)/TBL_u\n",
    "\n",
    "q_bl_exp = q_bl_exp.subs(TBL_u, TBL_u_exp)\n",
    "# print('q_bl = ', q_bl_exp)\n",
    "q_bl_exp = q_bl_exp.subs(T_l, T_l_exp)\n",
    "# print('q_bl = ', q_bl_exp)\n",
    "q_bl_exp = q_bl_exp.subs(eta_m, eta_m_exp)\n",
    "\n",
    "q_bl_exp\n",
    "\n",
    "print('\\n q_bl = ', q_bl_exp)\n",
    "\n",
    "# differentiate\n",
    "\n",
    "dqdT = sp.diff(q_bl_exp, T_m)\n",
    "dqdeta0 = sp.diff(q_bl_exp, eta_0)\n",
    "dqdEa = sp.diff(q_bl_exp, Ea)\n",
    "\n",
    "print('\\n dq_bl/dT_m =', dqdT)\n",
    "print('\\n dq_bl/deta_0 =', dqdeta0)\n",
    "print('\\n dq_bl/dEa =', dqdEa)\n",
    "\n",
    "C = sp.Symbol('C')\n",
    "RMS_exp = C*((alpha_m*q_bl*eta_m*kappa_m)/(rho_m*g_sfc*k_m))**(1/2)\n",
    "RMS_exp = RMS_exp.subs(eta_m, eta_m_exp)\n",
    "print('\\n dyn_top_rms =', RMS_exp)\n",
    "\n",
    "\n",
    "\n",
    "\n",
    "# eta_m_solve = solve(q_bl_exp - q_bl, eta_m)\n",
    "# print('eta_m =', eta_m_solve)\n",
    "\n",
    "# T_m_solve = solve(q_bl_exp - q_bl, T_m) # no solution for T_m\n",
    "# print('T_m =', T_m_solve)"
   ]
  },
  {
   "cell_type": "code",
   "execution_count": 15,
   "metadata": {},
   "outputs": [
    {
     "name": "stdout",
     "output_type": "stream",
     "text": [
      "eta_0(q_bl) =  [R_b**4*T_m**8*a_rh**4*alpha_m*g_sfc*k_m**3*rho_m*exp(-Ea*(T_0 - T_m)/(R_b*T_0*T_m))/(Ea**4*kappa_m*q_bl**3)]\n",
      "\n",
      " Ea(q_bl) =  [4.0*R_b*T_0*T_m*LambertW(0.25*T_m*a_rh*(alpha_m*g_sfc*k_m**3*rho_m/(eta_0*kappa_m*q_bl**3))**(1/4)*(-T_0 + T_m)/T_0)/(T_0 - T_m), 4.0*R_b*T_0*T_m*LambertW(0.25*T_m*a_rh*(alpha_m*g_sfc*k_m**3*rho_m/(eta_0*kappa_m*q_bl**3))**(1/4)*(T_0 - T_m)/T_0)/(T_0 - T_m), 4.0*R_b*T_0*T_m*LambertW(0.25*I*T_m*a_rh*(alpha_m*g_sfc*k_m**3*rho_m/(eta_0*kappa_m*q_bl**3))**(1/4)*(-T_0 + T_m)/T_0)/(T_0 - T_m), 4.0*R_b*T_0*T_m*LambertW(0.25*I*T_m*a_rh*(alpha_m*g_sfc*k_m**3*rho_m/(eta_0*kappa_m*q_bl**3))**(1/4)*(T_0 - T_m)/T_0)/(T_0 - T_m)]\n"
     ]
    },
    {
     "ename": "NotImplementedError",
     "evalue": "multiple generators [(R_b*T_m**2*a_rh*alpha_m*g_sfc*rho_m*exp(Ea/(R_b*T_0))*exp(-Ea/(R_b*T_m))/(Ea*eta_0*kappa_m))**(1/3), T_m]\nNo algorithms are implemented to solve equation -q_bl + R_b*T_m**2*a_rh*k_m*(R_b*T_m**2*a_rh*alpha_m*g_sfc*rho_m*exp(-Ea*(1/T_m - 1/T_0)/R_b)/(Ea*eta_0*kappa_m))**(1/3)/Ea",
     "output_type": "error",
     "traceback": [
      "\u001b[0;31m---------------------------------------------------------------------------\u001b[0m",
      "\u001b[0;31mNotImplementedError\u001b[0m                       Traceback (most recent call last)",
      "\u001b[0;32m<ipython-input-15-8631f6e5358c>\u001b[0m in \u001b[0;36m<module>\u001b[0;34m\u001b[0m\n\u001b[1;32m      7\u001b[0m \u001b[0mprint\u001b[0m\u001b[0;34m(\u001b[0m\u001b[0;34m'eta_0(q_bl) = '\u001b[0m\u001b[0;34m,\u001b[0m\u001b[0msp\u001b[0m\u001b[0;34m.\u001b[0m\u001b[0msolve\u001b[0m\u001b[0;34m(\u001b[0m\u001b[0mq_bl_exp\u001b[0m \u001b[0;34m-\u001b[0m \u001b[0mq_bl\u001b[0m\u001b[0;34m,\u001b[0m \u001b[0meta_0\u001b[0m\u001b[0;34m)\u001b[0m\u001b[0;34m)\u001b[0m\u001b[0;34m\u001b[0m\u001b[0;34m\u001b[0m\u001b[0m\n\u001b[1;32m      8\u001b[0m \u001b[0mprint\u001b[0m\u001b[0;34m(\u001b[0m\u001b[0;34m'\\n Ea(q_bl) = '\u001b[0m\u001b[0;34m,\u001b[0m\u001b[0msp\u001b[0m\u001b[0;34m.\u001b[0m\u001b[0msolve\u001b[0m\u001b[0;34m(\u001b[0m\u001b[0mq_bl_exp\u001b[0m \u001b[0;34m-\u001b[0m \u001b[0mq_bl\u001b[0m\u001b[0;34m,\u001b[0m \u001b[0mEa\u001b[0m\u001b[0;34m)\u001b[0m\u001b[0;34m)\u001b[0m\u001b[0;34m\u001b[0m\u001b[0;34m\u001b[0m\u001b[0m\n\u001b[0;32m----> 9\u001b[0;31m \u001b[0mprint\u001b[0m\u001b[0;34m(\u001b[0m\u001b[0;34m'\\n T_m(q_bl) = '\u001b[0m\u001b[0;34m,\u001b[0m\u001b[0msp\u001b[0m\u001b[0;34m.\u001b[0m\u001b[0msolve\u001b[0m\u001b[0;34m(\u001b[0m\u001b[0mq_bl_exp\u001b[0m \u001b[0;34m-\u001b[0m \u001b[0mq_bl\u001b[0m\u001b[0;34m,\u001b[0m \u001b[0mT_m\u001b[0m\u001b[0;34m)\u001b[0m\u001b[0;34m)\u001b[0m\u001b[0;34m\u001b[0m\u001b[0;34m\u001b[0m\u001b[0m\n\u001b[0m\u001b[1;32m     10\u001b[0m \u001b[0;34m\u001b[0m\u001b[0m\n\u001b[1;32m     11\u001b[0m \u001b[0;34m\u001b[0m\u001b[0m\n",
      "\u001b[0;32m~/.local/lib/python3.7/site-packages/sympy/solvers/solvers.py\u001b[0m in \u001b[0;36msolve\u001b[0;34m(f, *symbols, **flags)\u001b[0m\n\u001b[1;32m   1172\u001b[0m     \u001b[0;31m###########################################################################\u001b[0m\u001b[0;34m\u001b[0m\u001b[0;34m\u001b[0m\u001b[0;34m\u001b[0m\u001b[0m\n\u001b[1;32m   1173\u001b[0m     \u001b[0;32mif\u001b[0m \u001b[0mbare_f\u001b[0m\u001b[0;34m:\u001b[0m\u001b[0;34m\u001b[0m\u001b[0;34m\u001b[0m\u001b[0m\n\u001b[0;32m-> 1174\u001b[0;31m         \u001b[0msolution\u001b[0m \u001b[0;34m=\u001b[0m \u001b[0m_solve\u001b[0m\u001b[0;34m(\u001b[0m\u001b[0mf\u001b[0m\u001b[0;34m[\u001b[0m\u001b[0;36m0\u001b[0m\u001b[0;34m]\u001b[0m\u001b[0;34m,\u001b[0m \u001b[0;34m*\u001b[0m\u001b[0msymbols\u001b[0m\u001b[0;34m,\u001b[0m \u001b[0;34m**\u001b[0m\u001b[0mflags\u001b[0m\u001b[0;34m)\u001b[0m\u001b[0;34m\u001b[0m\u001b[0;34m\u001b[0m\u001b[0m\n\u001b[0m\u001b[1;32m   1175\u001b[0m     \u001b[0;32melse\u001b[0m\u001b[0;34m:\u001b[0m\u001b[0;34m\u001b[0m\u001b[0;34m\u001b[0m\u001b[0m\n\u001b[1;32m   1176\u001b[0m         \u001b[0msolution\u001b[0m \u001b[0;34m=\u001b[0m \u001b[0m_solve_system\u001b[0m\u001b[0;34m(\u001b[0m\u001b[0mf\u001b[0m\u001b[0;34m,\u001b[0m \u001b[0msymbols\u001b[0m\u001b[0;34m,\u001b[0m \u001b[0;34m**\u001b[0m\u001b[0mflags\u001b[0m\u001b[0;34m)\u001b[0m\u001b[0;34m\u001b[0m\u001b[0;34m\u001b[0m\u001b[0m\n",
      "\u001b[0;32m~/.local/lib/python3.7/site-packages/sympy/solvers/solvers.py\u001b[0m in \u001b[0;36m_solve\u001b[0;34m(f, *symbols, **flags)\u001b[0m\n\u001b[1;32m   1746\u001b[0m \u001b[0;34m\u001b[0m\u001b[0m\n\u001b[1;32m   1747\u001b[0m     \u001b[0;32mif\u001b[0m \u001b[0mresult\u001b[0m \u001b[0;32mis\u001b[0m \u001b[0;32mFalse\u001b[0m\u001b[0;34m:\u001b[0m\u001b[0;34m\u001b[0m\u001b[0;34m\u001b[0m\u001b[0m\n\u001b[0;32m-> 1748\u001b[0;31m         \u001b[0;32mraise\u001b[0m \u001b[0mNotImplementedError\u001b[0m\u001b[0;34m(\u001b[0m\u001b[0;34m'\\n'\u001b[0m\u001b[0;34m.\u001b[0m\u001b[0mjoin\u001b[0m\u001b[0;34m(\u001b[0m\u001b[0;34m[\u001b[0m\u001b[0mmsg\u001b[0m\u001b[0;34m,\u001b[0m \u001b[0mnot_impl_msg\u001b[0m \u001b[0;34m%\u001b[0m \u001b[0mf\u001b[0m\u001b[0;34m]\u001b[0m\u001b[0;34m)\u001b[0m\u001b[0;34m)\u001b[0m\u001b[0;34m\u001b[0m\u001b[0;34m\u001b[0m\u001b[0m\n\u001b[0m\u001b[1;32m   1749\u001b[0m \u001b[0;34m\u001b[0m\u001b[0m\n\u001b[1;32m   1750\u001b[0m     \u001b[0;32mif\u001b[0m \u001b[0mflags\u001b[0m\u001b[0;34m.\u001b[0m\u001b[0mget\u001b[0m\u001b[0;34m(\u001b[0m\u001b[0;34m'simplify'\u001b[0m\u001b[0;34m,\u001b[0m \u001b[0;32mTrue\u001b[0m\u001b[0;34m)\u001b[0m\u001b[0;34m:\u001b[0m\u001b[0;34m\u001b[0m\u001b[0;34m\u001b[0m\u001b[0m\n",
      "\u001b[0;31mNotImplementedError\u001b[0m: multiple generators [(R_b*T_m**2*a_rh*alpha_m*g_sfc*rho_m*exp(Ea/(R_b*T_0))*exp(-Ea/(R_b*T_m))/(Ea*eta_0*kappa_m))**(1/3), T_m]\nNo algorithms are implemented to solve equation -q_bl + R_b*T_m**2*a_rh*k_m*(R_b*T_m**2*a_rh*alpha_m*g_sfc*rho_m*exp(-Ea*(1/T_m - 1/T_0)/R_b)/(Ea*eta_0*kappa_m))**(1/3)/Ea"
     ]
    }
   ],
   "source": [
    "# # hold q_bl constant\n",
    "\n",
    "# assume q_sfc = q_bl for simplicity\n",
    "\n",
    "# solve both rheology eqns for q and plot seperately with same constant q\n",
    "\n",
    "print('eta_0(q_bl) = ',sp.solve(q_bl_exp - q_bl, eta_0))\n",
    "print('\\n Ea(q_bl) = ',sp.solve(q_bl_exp - q_bl, Ea))\n",
    "print('\\n T_m(q_bl) = ',sp.solve(q_bl_exp - q_bl, T_m))\n",
    "\n",
    "\n",
    "T_m = sp.Symbol('T_m')\n",
    "q_bl = sp.Symbol('q_bl')\n",
    "T_l_exp = T_m - a_rh*(R_b*T_m**2/Ea)\n",
    "TBL_u_exp = (rho_m*g_sfc*alpha_m*(T_m - T_l)/(eta_m*kappa_m))**(-1/3)\n",
    "eta_m_exp = eta_0*sp.exp(Ea/R_b * (T_m**-1 - T_0**-1))\n",
    "q_bl_exp = k_m*(T_m - T_l)/TBL_u\n",
    "q_bl_exp = q_bl_exp.subs(TBL_u, TBL_u_exp)\n",
    "q_bl_exp = q_bl_exp.subs(T_l, T_l_exp)\n",
    "print('\\n\\neta_0(eta) = ',sp.solve(q_bl_exp - q_bl, eta_m))\n",
    "print('\\n Ea(eta) = ',sp.solve(q_bl_exp - q_bl, eta_m))"
   ]
  },
  {
   "cell_type": "code",
   "execution_count": 3,
   "metadata": {
    "scrolled": true
   },
   "outputs": [
    {
     "name": "stdout",
     "output_type": "stream",
     "text": [
      "(k_m*(4*R_l**4 - 4*R_l**3*R_p - 3*R_l**2*R_p**2 + 2*R_l*R_p**3 + R_p**4)*(-60*Ea*R_c**6*k_m + 60*Ea*R_c**3*R_l**3*k_m + 30*Ea*R_c**3*R_l**2*R_p*k_m + 30*Ea*R_c**3*R_l*R_p**2*k_m - 30*Ea*R_l**5*R_p*k_m - 30*Ea*R_l**4*R_p**2*k_m + 120*R_b*R_c**3*R_l**3*T_avg*a_rh*k_m - 60*R_b*R_c**3*R_l**2*R_p*T_avg*a_rh*k_m - 60*R_b*R_c**3*R_l*R_p**2*T_avg*a_rh*k_m - 8*R_b*R_l**8*a0*a_rh + 14*R_b*R_l**7*R_p*a0*a_rh + 9*R_b*R_l**6*R_p**2*a0*a_rh - 20*R_b*R_l**5*R_p**3*a0*a_rh - 60*R_b*R_l**5*R_p*T_s*a_rh*k_m - 10*R_b*R_l**4*R_p**4*a0*a_rh - 30*R_b*R_l**4*R_p**2*T_s*a_rh*k_m + 18*R_b*R_l**3*R_p**5*a0*a_rh - 120*R_b*R_l**3*R_p**3*T_avg*a_rh*k_m + 180*R_b*R_l**3*R_p**3*T_s*a_rh*k_m + R_b*R_l**2*R_p**6*a0*a_rh + 60*R_b*R_l**2*R_p**4*T_avg*a_rh*k_m - 30*R_b*R_l**2*R_p**4*T_s*a_rh*k_m - 4*R_b*R_l*R_p**7*a0*a_rh + 60*R_b*R_l*R_p**5*T_avg*a_rh*k_m - 60*R_b*R_l*R_p**5*T_s*a_rh*k_m) - 2*sqrt(15)*sqrt(Ea*k_m**3*(60*Ea*R_c**6*k_m - 60*Ea*R_c**3*R_l**2*R_p*k_m - 60*Ea*R_c**3*R_l*R_p**2*k_m + 15*Ea*R_l**4*R_p**2*k_m + 30*Ea*R_l**3*R_p**3*k_m + 15*Ea*R_l**2*R_p**4*k_m - 240*R_b*R_c**3*R_l**3*T_avg*a_rh*k_m + 120*R_b*R_c**3*R_l**2*R_p*T_avg*a_rh*k_m + 120*R_b*R_c**3*R_l*R_p**2*T_avg*a_rh*k_m + 16*R_b*R_l**8*a0*a_rh - 28*R_b*R_l**7*R_p*a0*a_rh - 18*R_b*R_l**6*R_p**2*a0*a_rh + 40*R_b*R_l**5*R_p**3*a0*a_rh + 120*R_b*R_l**5*R_p*T_s*a_rh*k_m + 20*R_b*R_l**4*R_p**4*a0*a_rh + 60*R_b*R_l**4*R_p**2*T_s*a_rh*k_m - 36*R_b*R_l**3*R_p**5*a0*a_rh + 240*R_b*R_l**3*R_p**3*T_avg*a_rh*k_m - 360*R_b*R_l**3*R_p**3*T_s*a_rh*k_m - 2*R_b*R_l**2*R_p**6*a0*a_rh - 120*R_b*R_l**2*R_p**4*T_avg*a_rh*k_m + 60*R_b*R_l**2*R_p**4*T_s*a_rh*k_m + 8*R_b*R_l*R_p**7*a0*a_rh - 120*R_b*R_l*R_p**5*T_avg*a_rh*k_m + 120*R_b*R_l*R_p**5*T_s*a_rh*k_m))*(R_c - R_l)*(R_l - R_p)**2*(2*R_l + R_p)**2*(R_c**2 + R_c*R_l + R_l**2))/(30*R_b*R_l**2*a_rh*k_m**2*(R_l - R_p)**2*(2*R_l + R_p)**2*(4*R_l**4 - 4*R_l**3*R_p - 3*R_l**2*R_p**2 + 2*R_l*R_p**3 + R_p**4))\n"
     ]
    }
   ],
   "source": [
    "# when T_lid(z=R_l) = T_l\n",
    "\n",
    "exp = 3/(R_p**3 - R_c**3)*((T_m/3)*(R_l**3 - R_c**3) - a0/(30*k_m)*(R_p**5 - R_l**5) + c1/(2*k_m)*(R_p**2 - R_l**2)  + c2/3*(R_p**3 - R_l**3))\n",
    "root = sp.solve(exp - T_avg, T_l) #T_avg = (4*sp.pi/V) * I\n",
    "ans = root[0]\n",
    "# root = sp.solve(ans - T_l, T_m)\n",
    "print(root[0])"
   ]
  },
  {
   "cell_type": "code",
   "execution_count": null,
   "metadata": {},
   "outputs": [],
   "source": []
  }
 ],
 "metadata": {
  "kernelspec": {
   "display_name": "Python 3",
   "language": "python",
   "name": "python3"
  },
  "language_info": {
   "codemirror_mode": {
    "name": "ipython",
    "version": 3
   },
   "file_extension": ".py",
   "mimetype": "text/x-python",
   "name": "python",
   "nbconvert_exporter": "python",
   "pygments_lexer": "ipython3",
   "version": "3.7.4"
  }
 },
 "nbformat": 4,
 "nbformat_minor": 4
}
