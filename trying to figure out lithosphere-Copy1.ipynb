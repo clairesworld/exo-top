{
 "cells": [
  {
   "cell_type": "code",
   "execution_count": 20,
   "metadata": {},
   "outputs": [],
   "source": [
    "%matplotlib inline\n",
    "import sympy as sym\n",
    "from sympy import Function\n",
    "from sympy.solvers import solve\n",
    "from sympy.plotting import plot\n",
    "sym.init_printing()\n",
    "#t = sym.Symbol('t')\n",
    "z = sym.Symbol('z')\n",
    "#f = sym.symbols('f', cls=Function)\n",
    "#g = sym.symbols('g', cls=Function)\n",
    "Tm = sym.Symbol('Tm') # f(t) \n",
    "H = sym.Symbol('H0') # g(t) # homogenous radiogenic heating in W m^-3\n",
    "k = sym.Symbol('k')\n",
    "d = sym.Symbol('d') # lid thickness\n",
    "#q0 = sym.Symbol('q0')\n",
    "Ts = sym.Symbol('Ts')\n",
    "#Tl = sym.Symbol('Tl')\n",
    "a_rh = sym.Symbol('a_rh')\n",
    "Ea = sym.Symbol('Ea')\n",
    "R_b = sym.Symbol('R_b')\n",
    "Rp = sym.Symbol('Rp')\n",
    "Rc = sym.Symbol('Rc')\n",
    "Ra_crit = sym.Symbol('Ra_crit')\n",
    "rho = sym.Symbol('rho')\n",
    "alpha = sym.Symbol('alpha')\n",
    "g_sfc = sym.Symbol('g_sfc')\n",
    "kappa = sym.Symbol('kappa')\n",
    "#hm = sym.Symbol('hm') # mantle thickness\n",
    "eta0 = sym.Symbol('eta0')\n",
    "T0 = sym.Symbol('T0')\n",
    "beta = sym.Symbol('beta')\n",
    "tau_rad = sym.Symbol('tau_rad')\n",
    "delta_ubl = sym.Symbol('delta_ubl')\n",
    "\n",
    "\n",
    "# some values from Thiriet+ 2019 (Mars1)\n",
    "Tm0 = 1750\n",
    "H_t0 = 1.6255113699999997e-08#23e-12*3500 #9.24e-6 # from Annual Reviews Furling & Chapman\n",
    "tau_rad = 2.94e9*3.154e7 # convert to seconds\n",
    "d0 = 1020e3#300e3\n",
    "#dTmdt0 = 250/(500e6*3.154e7)\n",
    "values = {k:4, beta:1/3, g_sfc:3.7, kappa:1e-6, Ra_crit:450, Rc:1700e3, Rp:3400e3, rho:3500, T0:1600, \n",
    "          eta0:1e21, alpha:2.5e-5, R_b:8.3144598, Ea:300e3, a_rh:2.54, Ts:250, tau_rad:2.94e9*3.154e7,\n",
    "          H:H_t0#H:0,, \n",
    "          #Tm:Tm0, \n",
    "          #d:d0\n",
    "          }\n"
   ]
  },
  {
   "cell_type": "code",
   "execution_count": 21,
   "metadata": {},
   "outputs": [
    {
     "name": "stdout",
     "output_type": "stream",
     "text": [
      "1.44720755374258e+20\n",
      "0.00882495030331215\n",
      "97717.0438304164\n"
     ]
    }
   ],
   "source": [
    "# derive expression for T(z)\n",
    "eta = eta0*sym.exp(Ea/R_b * (Tm**-1 - T0**-1))\n",
    "deltaT_rh = -R_b*Tm**2/Ea\n",
    "Tl = Tm + a_rh*deltaT_rh\n",
    "\n",
    "#hm = Rp - d - delta_ubl - Rc\n",
    "#Ra_rh = rho*alpha*(Rp - Rc)**3*g_sfc/(kappa*eta) * (Tm-Tl) \n",
    "delta_ubl = (Ra_crit*kappa*eta/(alpha*rho*g_sfc*(Tm-Tl)))**(1/3)  #(h)*(Ra_crit/Ra_rh)**beta\n",
    "q_bl = k*(Tm-Tl)/delta_ubl\n",
    "q_s = q_bl + H*d # surface heat flux \n",
    "T_z = -H/(2*k)*(z)**2 - q_s/k*(z) + Ts\n",
    "#sym.pprint(T_z)\n",
    "#sym.latex(T_z)\n",
    "sym.pprint(eta.subs(values).subs(Tm, Tm0))\n",
    "sym.pprint(q_bl.subs(values).subs(Tm, Tm0))\n",
    "sym.pprint(delta_ubl.subs(values).subs(Tm, Tm0))"
   ]
  },
  {
   "cell_type": "code",
   "execution_count": null,
   "metadata": {},
   "outputs": [],
   "source": [
    "solve(T_z.subs(values).subs(z, -d) - Tl)"
   ]
  },
  {
   "cell_type": "code",
   "execution_count": 15,
   "metadata": {},
   "outputs": [
    {
     "name": "stdout",
     "output_type": "stream",
     "text": [
      "[-1505644.49922643, 419838.461054929]\n"
     ]
    }
   ],
   "source": [
    "# try to solve the above, assuming nothing about d0\n",
    "# find intersection of Tl(Tm) and T(z=d)\n",
    "\n",
    "\n",
    "\n",
    "Tl_sub = T_z.subs(values).subs(z, -d).subs(Tm,Tm0) # expression for Tl from T(z) profile\n",
    "d_1 = solve(Tl_sub - Tl.subs(values).subs(Tm,Tm0), d)\n",
    "sym.pprint(d_1) # in m\n",
    "\n",
    "# yay\n",
    "# this only works if you sub in Tm first and then solve for d\n"
   ]
  },
  {
   "cell_type": "code",
   "execution_count": 19,
   "metadata": {},
   "outputs": [
    {
     "data": {
      "image/png": "[encoded data removed]",
      "text/plain": [
       "<Figure size 432x288 with 1 Axes>"
      ]
     },
     "metadata": {
      "needs_background": "light"
     },
     "output_type": "display_data"
    },
    {
     "name": "stdout",
     "output_type": "stream",
     "text": [
      "                         ⎛                                           -0.333333\n",
      "                         ⎜                        ⎛ 36081.7187425694⎞         \n",
      "                         ⎜                        ⎜ ────────────────⎟         \n",
      "                         ⎜                        ⎜        Tm       ⎟         \n",
      "                         ⎜                      2 ⎜ℯ                ⎟         \n",
      "                       d⋅⎜1.91597619769931e-8⋅Tm ⋅⎜─────────────────⎟         \n",
      "                         ⎜                        ⎜         2       ⎟         \n",
      "                   2     ⎝                        ⎝       Tm        ⎠         \n",
      "- 2.0318892125e-9⋅d  + ───────────────────────────────────────────────────────\n",
      "                                                                4             \n",
      "\n",
      "333333333                  ⎞      \n",
      "                           ⎟      \n",
      "                           ⎟      \n",
      "                           ⎟      \n",
      "                           ⎟      \n",
      "          + 1.62551137e-8⋅d⎟      \n",
      "                           ⎟      \n",
      "                           ⎠      \n",
      "──────────────────────────── + 250\n",
      "                                  \n"
     ]
    },
    {
     "ename": "ValueError",
     "evalue": "The same variable should be used in all univariate expressions being plotted.",
     "output_type": "error",
     "traceback": [
      "\u001b[0;31m---------------------------------------------------------------------------\u001b[0m",
      "\u001b[0;31mValueError\u001b[0m                                Traceback (most recent call last)",
      "\u001b[0;32m<ipython-input-19-44a1ef78d9d0>\u001b[0m in \u001b[0;36m<module>\u001b[0;34m\u001b[0m\n\u001b[1;32m      1\u001b[0m \u001b[0mplot\u001b[0m\u001b[0;34m(\u001b[0m\u001b[0mTl\u001b[0m\u001b[0;34m.\u001b[0m\u001b[0msubs\u001b[0m\u001b[0;34m(\u001b[0m\u001b[0mvalues\u001b[0m\u001b[0;34m)\u001b[0m\u001b[0;34m,\u001b[0m \u001b[0;34m(\u001b[0m\u001b[0mTm\u001b[0m\u001b[0;34m,\u001b[0m \u001b[0;36m1000\u001b[0m\u001b[0;34m,\u001b[0m \u001b[0;36m2000\u001b[0m\u001b[0;34m)\u001b[0m\u001b[0;34m,\u001b[0m \u001b[0mylabel\u001b[0m\u001b[0;34m=\u001b[0m\u001b[0;34m'T_l'\u001b[0m\u001b[0;34m)\u001b[0m\u001b[0;34m\u001b[0m\u001b[0;34m\u001b[0m\u001b[0m\n\u001b[1;32m      2\u001b[0m \u001b[0msym\u001b[0m\u001b[0;34m.\u001b[0m\u001b[0mpprint\u001b[0m\u001b[0;34m(\u001b[0m\u001b[0mT_z\u001b[0m\u001b[0;34m.\u001b[0m\u001b[0msubs\u001b[0m\u001b[0;34m(\u001b[0m\u001b[0mvalues\u001b[0m\u001b[0;34m)\u001b[0m\u001b[0;34m.\u001b[0m\u001b[0msubs\u001b[0m\u001b[0;34m(\u001b[0m\u001b[0mz\u001b[0m\u001b[0;34m,\u001b[0m \u001b[0;34m-\u001b[0m\u001b[0md\u001b[0m\u001b[0;34m)\u001b[0m\u001b[0;34m)\u001b[0m\u001b[0;34m\u001b[0m\u001b[0;34m\u001b[0m\u001b[0m\n\u001b[0;32m----> 3\u001b[0;31m \u001b[0mplot\u001b[0m\u001b[0;34m(\u001b[0m\u001b[0mT_z\u001b[0m\u001b[0;34m.\u001b[0m\u001b[0msubs\u001b[0m\u001b[0;34m(\u001b[0m\u001b[0mvalues\u001b[0m\u001b[0;34m)\u001b[0m\u001b[0;34m.\u001b[0m\u001b[0msubs\u001b[0m\u001b[0;34m(\u001b[0m\u001b[0mz\u001b[0m\u001b[0;34m,\u001b[0m \u001b[0;34m-\u001b[0m\u001b[0md\u001b[0m\u001b[0;34m)\u001b[0m\u001b[0;34m,\u001b[0m \u001b[0;34m(\u001b[0m\u001b[0md\u001b[0m\u001b[0;34m,\u001b[0m \u001b[0;36m0\u001b[0m\u001b[0;34m,\u001b[0m \u001b[0;34m-\u001b[0m\u001b[0;36m500e3\u001b[0m\u001b[0;34m)\u001b[0m\u001b[0;34m,\u001b[0m \u001b[0mylabel\u001b[0m\u001b[0;34m=\u001b[0m\u001b[0;34m'T(z=-d)'\u001b[0m\u001b[0;34m)\u001b[0m \u001b[0;31m# this requires subbing d for d(Tm)\u001b[0m\u001b[0;34m\u001b[0m\u001b[0;34m\u001b[0m\u001b[0m\n\u001b[0m",
      "\u001b[0;32m~/anaconda3/lib/python3.7/site-packages/sympy/plotting/plot.py\u001b[0m in \u001b[0;36mplot\u001b[0;34m(*args, **kwargs)\u001b[0m\n\u001b[1;32m   1351\u001b[0m             \u001b[0;32mif\u001b[0m \u001b[0mlen\u001b[0m\u001b[0;34m(\u001b[0m\u001b[0mfree\u001b[0m\u001b[0;34m)\u001b[0m \u001b[0;34m>\u001b[0m \u001b[0;36m1\u001b[0m\u001b[0;34m:\u001b[0m\u001b[0;34m\u001b[0m\u001b[0;34m\u001b[0m\u001b[0m\n\u001b[1;32m   1352\u001b[0m                 raise ValueError(\n\u001b[0;32m-> 1353\u001b[0;31m                     \u001b[0;34m'The same variable should be used in all '\u001b[0m\u001b[0;34m\u001b[0m\u001b[0;34m\u001b[0m\u001b[0m\n\u001b[0m\u001b[1;32m   1354\u001b[0m                     'univariate expressions being plotted.')\n\u001b[1;32m   1355\u001b[0m     \u001b[0mx\u001b[0m \u001b[0;34m=\u001b[0m \u001b[0mfree\u001b[0m\u001b[0;34m.\u001b[0m\u001b[0mpop\u001b[0m\u001b[0;34m(\u001b[0m\u001b[0;34m)\u001b[0m \u001b[0;32mif\u001b[0m \u001b[0mfree\u001b[0m \u001b[0;32melse\u001b[0m \u001b[0mSymbol\u001b[0m\u001b[0;34m(\u001b[0m\u001b[0;34m'x'\u001b[0m\u001b[0;34m)\u001b[0m\u001b[0;34m\u001b[0m\u001b[0;34m\u001b[0m\u001b[0m\n",
      "\u001b[0;31mValueError\u001b[0m: The same variable should be used in all univariate expressions being plotted."
     ]
    }
   ],
   "source": [
    "plot(Tl.subs(values), (Tm, 1000, 2000), ylabel='T_l')\n",
    "sym.pprint(T_z.subs(values).subs(z, -d))\n",
    "plot(T_z.subs(values).subs(z, -d), (d, 0, -500e3), ylabel='T(z=-d)') # this requires subbing d for d(Tm)"
   ]
  }
 ],
 "metadata": {
  "kernelspec": {
   "display_name": "Python 3",
   "language": "python",
   "name": "python3"
  },
  "language_info": {
   "codemirror_mode": {
    "name": "ipython",
    "version": 3
   },
   "file_extension": ".py",
   "mimetype": "text/x-python",
   "name": "python",
   "nbconvert_exporter": "python",
   "pygments_lexer": "ipython3",
   "version": "3.7.4"
  }
 },
 "nbformat": 4,
 "nbformat_minor": 2
}
