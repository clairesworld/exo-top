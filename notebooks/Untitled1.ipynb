{
 "cells": [
  {
   "cell_type": "code",
   "execution_count": 12,
   "metadata": {},
   "outputs": [],
   "source": [
    "import pandas as pd  # noqa: E402\n",
    "import matplotlib.pyplot as plt  # noqa: E402\n",
    "from matplotlib.ticker import NullFormatter  # noqa: E402\n",
    "import matplotlib.lines as mlines  # noqa: E402\n",
    "from six import string_types  # noqa: E402\n",
    "from collections import Iterable  # noqa: E402\n",
    "import matplotlib.animation as animation\n",
    "import matplotlib.ticker as ticker\n",
    "from scipy.interpolate import interp1d\n",
    "from scipy.interpolate import InterpolatedUnivariateSpline\n",
    "import numpy as np"
   ]
  },
  {
   "cell_type": "code",
   "execution_count": 15,
   "metadata": {},
   "outputs": [
    {
     "data": {
      "text/plain": [
       "Text(0, 0.5, 'mass')"
      ]
     },
     "execution_count": 15,
     "metadata": {},
     "output_type": "execute_result"
    },
    {
     "data": {
      "image/png": "[encoded data removed]",
      "text/plain": [
       "<Figure size 432x288 with 1 Axes>"
      ]
     },
     "metadata": {
      "needs_background": "light"
     },
     "output_type": "display_data"
    }
   ],
   "source": [
    "x2_orig = [1.03823013e+07, 1.91438021e+07, 3.43487725e+07, 6.03098134e+07,\n",
    " 1.04073064e+08,1.77098159e+08, 2.97940920e+08, 4.96510609e+08,\n",
    " 8.20776636e+08, 1.34724681e+09, 2.19718948e+09, 3.56144414e+09,\n",
    " 5.73862707e+09, 9.19046427e+09, 1.46273907e+10, 2.31346047e+10,\n",
    " 3.63469063e+10, 5.67148811e+10, 8.78830979e+10 ,1.35209821e+11]\n",
    "\n",
    "x_orig = [0.02745715, 0.03645749 ,0.04840812 ,0.0642761  ,0.08534555, 0.11332148,\n",
    " 0.15046781, 0.19979056, 0.26528111 ,0.35223919, 0.46770179 ,0.62101257,\n",
    " 0.82457801, 1.09487139 ,1.45376585 ,1.93030449 ,2.56305059 ,3.40320833,\n",
    " 4.51876642, 6.        ]\n",
    "\n",
    "def mass2Ra(u):\n",
    "    f = InterpolatedUnivariateSpline(x_orig, x2_orig_i, k=3)\n",
    "    return f(u)\n",
    "\n",
    "def Ra2mass(u):\n",
    "    f = InterpolatedUnivariateSpline(x2_orig_i, x_orig, k=2)\n",
    "    return f(u)\n",
    "\n",
    "x2_orig_i = x2_orig\n",
    "\n",
    "new_x2 = np.linspace(1e6, 1e10)\n",
    "\n",
    "figs = plt.figure()\n",
    "plt.plot(x2_orig_i, x_orig, '-')\n",
    "plt.plot(new_x2, Ra2mass(new_x2), '--')\n",
    "plt.plot(x2_orig_i, Ra2mass(x2_orig_i), '--')\n",
    "plt.gca().set_xscale('log')\n",
    "plt.gca().set_yscale('log')\n",
    "plt.xlabel('Ra')\n",
    "plt.ylabel('mass')\n"
   ]
  },
  {
   "cell_type": "code",
   "execution_count": 17,
   "metadata": {},
   "outputs": [
    {
     "name": "stdout",
     "output_type": "stream",
     "text": [
      "21\n"
     ]
    }
   ],
   "source": [
    "global v\n",
    "v = 10\n",
    "\n",
    "def change():\n",
    "    global v\n",
    "    v = v + 1\n",
    "    print(v)\n",
    "\n",
    "def double():\n",
    "    global v\n",
    "    v = v*2\n",
    "    change()\n",
    "    \n",
    "double()"
   ]
  },
  {
   "cell_type": "code",
   "execution_count": null,
   "metadata": {},
   "outputs": [],
   "source": []
  }
 ],
 "metadata": {
  "kernelspec": {
   "display_name": "Python 3",
   "language": "python",
   "name": "python3"
  },
  "language_info": {
   "codemirror_mode": {
    "name": "ipython",
    "version": 3
   },
   "file_extension": ".py",
   "mimetype": "text/x-python",
   "name": "python",
   "nbconvert_exporter": "python",
   "pygments_lexer": "ipython3",
   "version": "3.7.6"
  }
 },
 "nbformat": 4,
 "nbformat_minor": 4
}
