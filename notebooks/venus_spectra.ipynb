{
 "cells": [
  {
   "cell_type": "code",
   "execution_count": 8,
   "metadata": {},
   "outputs": [],
   "source": [
    "\n",
    "%matplotlib inline\n",
    "import numpy as np\n",
    "\n",
    "import matplotlib.pyplot as plt\n",
    "from matplotlib import cm, colors\n",
    "from collections.abc import Iterable\n",
    "import collections\n",
    "import six\n",
    "from scipy import interpolate\n",
    "import pandas as pd\n",
    "from IPython.display import display, Math\n",
    "import random as rand\n",
    "\n",
    "\n",
    "import matplotlib\n",
    "from matplotlib.font_manager import FontProperties\n",
    "from matplotlib import rc\n",
    "# matplotlib.font_manager._rebuild()\n",
    "rc('font',**{'family':'serif','serif':['CMU Serif Roman']}) # latex font for matplotlib\n",
    "rc('text', usetex=True)\n",
    "# np.seterr('raise')\n",
    "\n",
    "# fig_path = '/space/cmg76/figs/' # office\n",
    "fig_path = 'figs/' # laptop#\n",
    "goodfig_path = 'latex/report-firstyr/figs/'\n",
    "import sys\n",
    "sys.path.insert(0,'/home/claire/Works/exo-top/')\n",
    "import pyshtools\n",
    "import cartopy.crs as ccrs\n",
    "import john_scripts.venus_topo_stats as vts"
   ]
  },
  {
   "cell_type": "code",
   "execution_count": 9,
   "metadata": {},
   "outputs": [],
   "source": [
    "def load_spectrum(fname='', path='benchmarks/'):\n",
    "    df = pd.read_csv(path+fname, header=None, names=['degree', 'value'], index_col=False, engine='python') \n",
    "    ls = np.array(df['degree'])\n",
    "    S = np.array(df['value'])\n",
    "    return S\n",
    "       \n",
    "    \n",
    "def RMS_perl(spec=None, clm_topo=None, lmin=1, lmax=10, verbose=False):\n",
    "    # Calculate RMS topography from power spectrum\n",
    "    if spec is None:\n",
    "        spec = clm_topo.spectrum(unit='per_l', lmax=lmax)\n",
    "#     print(spec)\n",
    "    l = np.arange(lmin, lmax+1)\n",
    "    RMS_topo = np.sqrt(np.sum(spec[:lmax]/(2*l + 1)))\n",
    "    if verbose:\n",
    "        print(\"RMS_topo\", RMS_topo, \"m\")\n",
    "\n",
    "    return RMS_topo\n",
    "\n",
    "def RMS_perlm(spec=None, clm_topo=None, lmin=1, lmax=10, verbose=False):\n",
    "    if spec is None:\n",
    "        spec = clm_topo.spectrum(unit='per_lm', lmax=lmax)\n",
    "    l = np.arange(lmin, lmax+1)\n",
    "    # assume this starts at 1\n",
    "    print('l=', l)\n",
    "        \n",
    "    spec_perl = np.zeros(lmax)\n",
    "    for  ii, s in enumerate(spec[:lmax]):\n",
    "        spec_perl[ii] = s*(2*l[ii]+1)\n",
    "    return RMS_perl(spec=spec_perl, lmin=lmin, lmax=lmax, verbose=verbose)\n",
    "        \n",
    "def RMS_amplitude(spec=None, lmin=1, lmax=10, verbose=False):\n",
    "    spec = spec*1000 #spec**2\n",
    "    return RMS_perl(spec=spec, lmin=lmin, lmax=lmax, verbose=verbose)\n",
    "    \n",
    "    "
   ]
  },
  {
   "cell_type": "code",
   "execution_count": 11,
   "metadata": {},
   "outputs": [
    {
     "name": "stdout",
     "output_type": "stream",
     "text": [
      "RMS_topo 865.4906656355711 m\n"
     ]
    },
    {
     "data": {
      "text/plain": [
       "865.4906656355711"
      ]
     },
     "execution_count": 11,
     "metadata": {},
     "output_type": "execute_result"
    }
   ],
   "source": [
    "cilm_topo, lmax_out = pyshtools.shio.shread('benchmarks/sph_Venus/VenusTopo719.shape')\n",
    "clm_topo = pyshtools.SHCoeffs.from_array(cilm_topo)\n",
    "\n",
    "clm_topo.coeffs[:,0] = 0.0 # Get rid of degree 0 corresponding to mean radius\n",
    "vts.RMS_from_l_powerspectrum(clm_topo=clm_topo, lmax=20)"
   ]
  },
  {
   "cell_type": "code",
   "execution_count": 20,
   "metadata": {},
   "outputs": [
    {
     "name": "stdout",
     "output_type": "stream",
     "text": [
      "Huang 8 489.32474100304574 m\n",
      "Yang 475.66115968277234 m\n",
      "Wei 213.05241962826716 m\n",
      "---\n",
      "\n",
      "200.15279436132423 , 688.2014927583677 , 673.7880493468331 , 402.07565967751117 , 695.2136989391211 , 672.4561163950626 , 214.12066607342535 , 488.4601789919337 , 878.5607285545191 , 292.43829959982384 , 311.3352436867767 , 339.3664129742059 , 640.1361418805931 , 430.1894190342128 ,\n"
     ]
    }
   ],
   "source": [
    "# calculate RMS from model spectra\n",
    "\n",
    "print('Huang 8', RMS_amplitude(spec=load_spectrum(fname='8_m.csv', path='benchmarks/huang_Venus/'),\n",
    "              lmin=1, lmax=10, verbose=False), 'm')\n",
    "\n",
    "print('Yang', RMS_amplitude(spec=load_spectrum(fname='h_amplitude_m.csv', path='benchmarks/yang_Venus/'),\n",
    "              lmin=1, lmax=10, verbose=False), 'm')\n",
    "\n",
    "print('Wei', RMS_perl(spec=load_spectrum(fname='model_power_m2.csv', path='benchmarks/wei_Venus/'),\n",
    "              lmin=1, lmax=10, verbose=False), 'm')\n",
    "\n",
    "print('---\\n')\n",
    "print(RMS_amplitude(spec=load_spectrum(fname='1_m.csv', path='benchmarks/huang_Venus_complete/'),\n",
    "              lmin=1, lmax=10, verbose=False),',',\n",
    "      RMS_amplitude(spec=load_spectrum(fname='2_m.csv', path='benchmarks/huang_Venus_complete/'),\n",
    "              lmin=1, lmax=10, verbose=False),',',\n",
    "      RMS_amplitude(spec=load_spectrum(fname='3_m.csv', path='benchmarks/huang_Venus_complete/'),\n",
    "              lmin=1, lmax=10, verbose=False),',',\n",
    "      RMS_amplitude(spec=load_spectrum(fname='4_m.csv', path='benchmarks/huang_Venus_complete/'),\n",
    "              lmin=1, lmax=10, verbose=False),',',\n",
    "      RMS_amplitude(spec=load_spectrum(fname='5_m.csv', path='benchmarks/huang_Venus_complete/'),\n",
    "              lmin=1, lmax=10, verbose=False),',',\n",
    "      RMS_amplitude(spec=load_spectrum(fname='6_m.csv', path='benchmarks/huang_Venus_complete/'),\n",
    "              lmin=1, lmax=10, verbose=False),',',\n",
    "      RMS_amplitude(spec=load_spectrum(fname='7_m.csv', path='benchmarks/huang_Venus_complete/'),\n",
    "              lmin=1, lmax=10, verbose=False),',',\n",
    "      RMS_amplitude(spec=load_spectrum(fname='8_m.csv', path='benchmarks/huang_Venus_complete/'),\n",
    "              lmin=1, lmax=10, verbose=False),',',\n",
    "      RMS_amplitude(spec=load_spectrum(fname='9_m.csv', path='benchmarks/huang_Venus_complete/'),\n",
    "              lmin=1, lmax=10, verbose=False),',',\n",
    "      RMS_amplitude(spec=load_spectrum(fname='10_m.csv', path='benchmarks/huang_Venus_complete/'),\n",
    "              lmin=1, lmax=10, verbose=False),',',\n",
    "      RMS_amplitude(spec=load_spectrum(fname='11_m.csv', path='benchmarks/huang_Venus_complete/'),\n",
    "              lmin=1, lmax=10, verbose=False),',',\n",
    "      RMS_amplitude(spec=load_spectrum(fname='12_m.csv', path='benchmarks/huang_Venus_complete/'),\n",
    "              lmin=1, lmax=10, verbose=False),',',\n",
    "      RMS_amplitude(spec=load_spectrum(fname='13_m.csv', path='benchmarks/huang_Venus_complete/'),\n",
    "              lmin=1, lmax=10, verbose=False),',',\n",
    "      RMS_amplitude(spec=load_spectrum(fname='15_m.csv', path='benchmarks/huang_Venus_complete/'),\n",
    "              lmin=1, lmax=10, verbose=False),',',\n",
    "     )"
   ]
  },
  {
   "cell_type": "code",
   "execution_count": 14,
   "metadata": {},
   "outputs": [
    {
     "name": "stdout",
     "output_type": "stream",
     "text": [
      "Huang 776.6478118949665 m\n",
      "Yang 776.2186294431615 m\n",
      "Wei 776.0523783181842 m\n"
     ]
    }
   ],
   "source": [
    "# check you get the right RMS as JFR's demo above\n",
    "\n",
    "print('Huang', RMS_amplitude(spec=load_spectrum(fname='observed_m.csv', path='benchmarks/huang_Venus_complete/'),\n",
    "              lmin=1, lmax=10, verbose=False), 'm')\n",
    "\n",
    "print('Yang', RMS_amplitude(spec=load_spectrum(fname='h_m_observed.csv', path='benchmarks/yang_Venus/'),\n",
    "              lmin=1, lmax=10, verbose=False), 'm')\n",
    "\n",
    "print('Wei', RMS_perl(spec=load_spectrum(fname='observed_power_m2_l10.csv', path='benchmarks/wei_Venus/'),\n",
    "              lmin=1, lmax=10, verbose=False), 'm')\n",
    "\n",
    "\n"
   ]
  },
  {
   "cell_type": "code",
   "execution_count": 52,
   "metadata": {},
   "outputs": [
    {
     "data": {
      "text/plain": [
       "[<matplotlib.lines.Line2D at 0x7f18ff3e6450>]"
      ]
     },
     "execution_count": 52,
     "metadata": {},
     "output_type": "execute_result"
    },
    {
     "data": {
      "image/png": "[encoded data removed]",
      "text/plain": [
       "<Figure size 432x288 with 1 Axes>"
      ]
     },
     "metadata": {
      "needs_background": "light"
     },
     "output_type": "display_data"
    }
   ],
   "source": [
    "# how to get power from amplitude\n",
    "\n",
    "# difference between Yang and Wei\n",
    "Yang_m = load_spectrum(fname='h_m_observed.csv', path='benchmarks/yang_Venus/')\n",
    "Wei_m2 = load_spectrum(fname='observed_power_m2_l10.csv', path='benchmarks/wei_Venus/')\n",
    "\n",
    "plt.plot(Yang_m*1000, Wei_m2)\n",
    "plt.plot(np.linspace(0,np.max(Wei_m2)),np.linspace(0,np.max(Wei_m2)))"
   ]
  },
  {
   "cell_type": "code",
   "execution_count": 55,
   "metadata": {},
   "outputs": [
    {
     "name": "stderr",
     "output_type": "stream",
     "text": [
      "findfont: Font family ['serif'] not found. Falling back to DejaVu Sans.\n",
      "/home/claire/anaconda3/lib/python3.7/site-packages/pyshtools/shclasses/shcoeffsgrid.py:1827: UserWarning: Matplotlib is currently using module://ipykernel.pylab.backend_inline, which is a non-GUI backend, so cannot show the figure.\n",
      "  fig.show()\n",
      "/home/claire/anaconda3/lib/python3.7/site-packages/pyshtools/shclasses/shcoeffsgrid.py:1827: UserWarning: Matplotlib is currently using module://ipykernel.pylab.backend_inline, which is a non-GUI backend, so cannot show the figure.\n",
      "  fig.show()\n"
     ]
    },
    {
     "name": "stdout",
     "output_type": "stream",
     "text": [
      "RMS_topo 787.7186538397798 m\n"
     ]
    },
    {
     "data": {
      "image/png": "[encoded data removed]",
      "text/plain": [
       "<Figure size 432x288 with 1 Axes>"
      ]
     },
     "metadata": {
      "needs_background": "light"
     },
     "output_type": "display_data"
    },
    {
     "data": {
      "image/png": "[encoded data removed]",
      "text/plain": [
       "<Figure size 432x288 with 1 Axes>"
      ]
     },
     "metadata": {
      "needs_background": "light"
     },
     "output_type": "display_data"
    },
    {
     "data": {
      "image/png": "[encoded data removed]",
      "text/plain": [
       "<Figure size 432x288 with 1 Axes>"
      ]
     },
     "metadata": {
      "needs_background": "light"
     },
     "output_type": "display_data"
    }
   ],
   "source": [
    "vts.plot_Venus(lmax=10)"
   ]
  },
  {
   "cell_type": "code",
   "execution_count": 28,
   "metadata": {},
   "outputs": [],
   "source": [
    "lmax_data = 5##30  # spherical harmonic degree \n",
    "lmax_plot = 5##120  # spherical harmonic degree to use for plotting purposes\n",
    "filename = 'benchmarks/sph_Venus/venus_sphcoeffs.csv'#'../hoggard/NGS-2015-07-01303-s13.csv'#\n",
    "sh = np.loadtxt(filename, delimiter=\",\", skiprows=1)\n",
    "cilm = np.zeros((2, lmax_data+1, lmax_data+1))\n",
    "\n",
    "# print(sh)\n",
    "# print(np.shape(sh))\n",
    "\n",
    "\n",
    "\n",
    "for i in range(sh.shape[0]):\n",
    "    l = int(sh[i,0])\n",
    "    m = int(sh[i,1])\n",
    "    C_lm = sh[i,2]\n",
    "    S_lm = sh[i,3]\n",
    "    cilm[0, l, m] = C_lm*1e3  # 1e3 to convert from km to m\n",
    "    cilm[1, l, m] = S_lm*1e3  # 1e3 to convert from km to m\n",
    "\n",
    "\n",
    "# cs phase included??\n",
    "clm= pyshtools.SHCoeffs.from_array(cilm,lmax=lmax_data,normalization=\"ortho\",csphase=-1)"
   ]
  },
  {
   "cell_type": "code",
   "execution_count": 33,
   "metadata": {},
   "outputs": [
    {
     "name": "stderr",
     "output_type": "stream",
     "text": [
      "/home/claire/anaconda3/lib/python3.7/site-packages/pyshtools/shclasses/shcoeffsgrid.py:1827: UserWarning: Matplotlib is currently using module://ipykernel.pylab.backend_inline, which is a non-GUI backend, so cannot show the figure.\n",
      "  fig.show()\n"
     ]
    },
    {
     "name": "stdout",
     "output_type": "stream",
     "text": [
      "0.0001228159253014527\n"
     ]
    },
    {
     "data": {
      "image/png": "[encoded data removed]",
      "text/plain": [
       "<Figure size 432x288 with 1 Axes>"
      ]
     },
     "metadata": {
      "needs_background": "light"
     },
     "output_type": "display_data"
    }
   ],
   "source": [
    "fig1, ax1 = clm.plot_spectrum(unit=\"per_lm\",xscale='log',yscale='log') \n",
    "# The average power per coefficient as a function of spherical harmonic degree can be calculated by \n",
    "# setting the parameter unit equal to 'per_lm'. This is simply the power per degree divided by (2l+1)\n",
    "\n",
    "plt.ylabel(\"Power, km$^2$\")\n",
    "plt.xlabel(\"Degree, $l$\")\n",
    "plt.xlim(1,1e3)\n",
    "plt.ylim(1e-8, 1e-4)\n",
    "\n",
    "S_lm = clm.spectrum(unit=\"per_lm\")\n",
    "print(np.sum(S_lm))"
   ]
  },
  {
   "cell_type": "code",
   "execution_count": 43,
   "metadata": {},
   "outputs": [
    {
     "name": "stdout",
     "output_type": "stream",
     "text": [
      "Rappaport 0.006000833753150744 km\n",
      "Wei 1689.0378920042974 m\n",
      "Huang 1448.1500856489208 m\n",
      "Yang 1439.8945695528873 m\n",
      "Benesova 5048.635697723783 m\n"
     ]
    }
   ],
   "source": [
    "# calculate RMS\n",
    "\n",
    "def powerspectrum_RMS(path=None, power_lm=None, amplitude=False, n=None): # try to calcuate RMS from digitized power spectrum\n",
    "    if path is not None:\n",
    "        df = pd.read_csv(path, header=None, names=['degree', 'value'], index_col=False) \n",
    "        ls = np.array(df['degree'])\n",
    "        S = np.array(df['value'])\n",
    "    elif power_lm is not None:\n",
    "        ls = np.arange(1, len(power_lm)-1)\n",
    "        S = power_lm\n",
    "\n",
    "    if n is None:\n",
    "        n = len(ls)\n",
    "\n",
    "    RMS_l = []\n",
    "    for ii, l in enumerate(ls[0:n]):\n",
    "        Slm = S[ii]\n",
    "        if amplitude:\n",
    "            Slm = Slm**2\n",
    "        RMS_l.append(np.sqrt(Slm/(2*l + 1)))\n",
    "    return sum(RMS_l)\n",
    "\n",
    "print('Rappaport', powerspectrum_RMS(power_lm=S_lm), 'km')\n",
    "print('Wei', powerspectrum_RMS(path='benchmarks/wei_Venus/observed_power_m2_l10.csv', n=6), 'm')\n",
    "print('Huang', powerspectrum_RMS(path='benchmarks/huang_Venus/observed_m.csv', n=6, amplitude=True), 'm')\n",
    "print('Yang', powerspectrum_RMS(path='benchmarks/yang_Venus/h_m_observed.csv', n=6, amplitude=True), 'm')\n",
    "print('Benesova', powerspectrum_RMS(path='benchmarks/benesova_Venus/observed_m2.csv', n=6), 'm')"
   ]
  },
  {
   "cell_type": "code",
   "execution_count": 59,
   "metadata": {},
   "outputs": [],
   "source": [
    "def load_grid(fname='', path='benchmarks/lees_topo_grids/'):\n",
    "    x,y,h = np.loadtxt(path+fname, delimiter=None, skiprows=0, usecols=None, unpack=True)\n",
    "    #df = pd.read_csv(path+fname, header=None, names=['x', 'y', 'h'], index_col=False, engine='python') \n",
    "    return x,y,h\n",
    "\n",
    "def grid_RMS(x,y,h):\n",
    "    return np.sqrt(np.mean(h**2))\n",
    "\n",
    "def grid_peak(x,y,h):\n",
    "    return np.max(h)"
   ]
  },
  {
   "cell_type": "code",
   "execution_count": 60,
   "metadata": {},
   "outputs": [
    {
     "name": "stdout",
     "output_type": "stream",
     "text": [
      "0.125746699674\n",
      "0.105032009653\n",
      "0.08411800809\n"
     ]
    }
   ],
   "source": [
    "x,y,h=load_grid(fname='Ra1e5_topography.txt')\n",
    "print(grid_peak(x,y,h))\n",
    "x,y,h=load_grid(fname='Ra3e5_topography.txt')\n",
    "print(grid_peak(x,y,h))\n",
    "x,y,h=load_grid(fname='Ra1e6_topography.txt')\n",
    "print(grid_peak(x,y,h))\n",
    "#plt.contourf(x,y,h)"
   ]
  },
  {
   "cell_type": "code",
   "execution_count": null,
   "metadata": {},
   "outputs": [],
   "source": []
  }
 ],
 "metadata": {
  "kernelspec": {
   "display_name": "Python 3",
   "language": "python",
   "name": "python3"
  },
  "language_info": {
   "codemirror_mode": {
    "name": "ipython",
    "version": 3
   },
   "file_extension": ".py",
   "mimetype": "text/x-python",
   "name": "python",
   "nbconvert_exporter": "python",
   "pygments_lexer": "ipython3",
   "version": "3.8.5"
  }
 },
 "nbformat": 4,
 "nbformat_minor": 4
}
