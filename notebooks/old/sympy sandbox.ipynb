{
 "cells": [
  {
   "cell_type": "code",
   "execution_count": 20,
   "metadata": {},
   "outputs": [],
   "source": [
    "import sympy as sp\n",
    "from sympy.solvers import solve\n",
    "T_avg = sp.Symbol('T_avg')\n",
    "c1 = sp.Symbol('c1')\n",
    "c2 = sp.Symbol('c2')\n",
    "T_l = sp.Symbol('T_l')\n",
    "T_c = sp.Symbol('T_c')\n",
    "T_s = sp.Symbol('T_s')\n",
    "a0 = sp.Symbol('a0')\n",
    "k_m = sp.Symbol('k_m')\n",
    "R_p = sp.Symbol('R_p')\n",
    "R_l = sp.Symbol('R_l')\n",
    "R_c = sp.Symbol('R_c')\n",
    "V = sp.Symbol('V')\n",
    "T_m = sp.Symbol('T_m')\n",
    "a_rh = sp.Symbol('a_rh')\n",
    "R_b = sp.Symbol('R_b')\n",
    "Ea = sp.Symbol('Ea')\n",
    "q_bl = sp.Symbol('q_bl')\n",
    "rho_m = sp.Symbol('rho_m')\n",
    "kappa_m = sp.Symbol('kappa_m')\n",
    "alpha_m = sp.Symbol('alpha_m')\n",
    "g_sfc = sp.Symbol('g_sfc')\n",
    "eta_0 = sp.Symbol('eta_0')\n",
    "T_0 = sp.Symbol('T_0')\n",
    "eta_m = sp.Symbol('eta_m')\n",
    "TBL_u = sp.Symbol('TBL_u')\n",
    "T_m = sp.Symbol('T_m')\n",
    "q_bl = sp.Symbol('q_bl')\n",
    "mu = sp.Symbol('mu')\n",
    "A_rh = sp.Symbol('A_rh')\n",
    "h_rh = sp.Symbol('h_rh')\n",
    "B_rh = sp.Symbol('B_rh')\n",
    "m_rh = sp.Symbol('m_rh')\n",
    "R_l = sp.Symbol('R_l')\n",
    "R_c = sp.Symbol('R_c')\n",
    "Ra_crit = sp.Symbol('Ra_crit')\n",
    "H_0 = sp.Symbol('H_0')\n",
    "D_l = sp.Symbol('D_l')\n"
   ]
  },
  {
   "cell_type": "code",
   "execution_count": 58,
   "metadata": {},
   "outputs": [
    {
     "name": "stdout",
     "output_type": "stream",
     "text": [
      "0.0177559904379085\n",
      "kappa_m 1.00075056292219e-6\n",
      "eta_M 1.44502286065192e+20\n",
      "kappa_m*eta_m 144610744123285.\n",
      "(alpha_m*rho_m*g_sfc*(T_c-T_m) / (kappa_m*eta_m)) 1.02340746422655e-12\n",
      "(alpha_m*rho_m*g_sfc*(T_c-T_m)) 147.995714943126\n",
      "3.38275919870002\n",
      "T_l 1542.91211666667\n",
      "dT,  207.087883333333\n",
      "delta_bl,  76042.1950014648\n",
      "0.0108933143410363\n",
      "D_l 3400000.0 - 23625974.2210911*(-0.5 + 0.866025403784439*I)*(-0.000934181156363873 + 0.000315863030017084*I)**(1/3) - 4.70292188044128e-9*(-0.5 - 0.866025403784439*I)*(-7.5257907704472e-12*210**(1/3)*(4.20728596413923e+21*210**(2/3) + 1.06453068423055e+24) + 104040000000000.0)/(-0.000934181156363873 + 0.000315863030017084*I)**(1/3)\n"
     ]
    },
    {
     "data": {
      "image/png": "[encoded data removed]",
      "text/plain": [
       "<Figure size 432x288 with 1 Axes>"
      ]
     },
     "metadata": {
      "needs_background": "light"
     },
     "output_type": "display_data"
    },
    {
     "data": {
      "text/plain": [
       "<sympy.plotting.plot.Plot at 0x7f28f261db10>"
      ]
     },
     "execution_count": 58,
     "metadata": {},
     "output_type": "execute_result"
    }
   ],
   "source": [
    "# expression for D_l if the lid changes instantly - solve continuity of flux - as a function of T_m, T_c\n",
    "# q_cond = q_bl\n",
    "\n",
    "\n",
    "dict_eval = dict(T_m=1750, T_c=2250, D_l=300e3, \n",
    "    g_sfc=3.382759198700019,H_0=4e-12, # final radiogenic heating in W/kg\n",
    "                             X_K=305, # initial abundance of K in wt ppm\n",
    "                             X_U=16e-3, # initial abundane of U in wt ppm \n",
    "                             X_Th=56e-3, # initial abundance of Th in wt ppm \n",
    "                             Ra_crit_u=450, \n",
    "                             R_p=3400e3, \n",
    "                             R_c=1700e3,\n",
    "                             alpha_m=2.5e-5, # thermal expansivity\n",
    "                             k_m=4, # silicate thermal conductivity\n",
    "                             CMF=0.24, # not used\n",
    "                             rho_c=7200, # core density\n",
    "                             rho_m=3500, # mantle density \n",
    "                             c_m=1142, #<----??? TODO: check if you need constant volume c_p\n",
    "                             c_c=840, # specific heat for core in J/K/kg\n",
    "                             k_lm=4, # thermal conduvtivity lower mantle\n",
    "                             a_rh=2.44, # for beta=1/3 \n",
    "                             Ea=300e3, # activation energy in J for viscosity law\n",
    "                             eta_0=1e21, # reference dynamic viscosity in Pa s\n",
    "                             T_ref=1600, # viscosity law reference temperature in K\n",
    "                             T_s=250, # fixed surface temp in K\n",
    "                             M_p=6.39e23, # only used for gravity in this case\n",
    "                              mu=80e9, A_rh=8.7e15, R_b = 8.314, Ra_crit = 450, kappa_m =1.0007505629221917e-06,\n",
    "                     h_rh=2.07e-3, B_rh=0.5e-9, m_rh=2.5)\n",
    "\n",
    "# q_cond?\n",
    "T_l_exp = sp.Symbol('T_l')\n",
    "T_l_exp = T_m - a_rh*(R_b*T_m**2/Ea)\n",
    "a0 = H_0*rho_m\n",
    "R_l = R_p - D_l\n",
    "c1 = k_m*(T_l - T_s - a0/(6*k_m)*(R_p**2 - R_l**2))/(R_l**-1 - R_p**-1)\n",
    "dTdr = -a0/(3*k_m)*R_p - c1/(k_m*R_p**2)\n",
    "q_cond = -k_m*dTdr \n",
    "print(q_cond.subs(T_l, T_l_exp).subs(dict_eval))\n",
    "\n",
    "# q_bl?\n",
    "eta_m = mu/(2*A_rh) * (h_rh/B_rh)**m_rh*sp.exp(Ea/(R_b*T_m))\n",
    "delta_bl = (Ra_crit/(alpha_m*rho_m*g_sfc*(T_c-T_m) / (kappa_m*eta_m)))**(1/3)\n",
    "dT = T_m - T_l\n",
    "q_bl = k_m*dT/delta_bl\n",
    "print('kappa_m', (kappa_m).subs(dict_eval))\n",
    "print('eta_M', (eta_m).subs(dict_eval))\n",
    "print('kappa_m*eta_m', (kappa_m*eta_m).subs(dict_eval))\n",
    "print('(alpha_m*rho_m*g_sfc*(T_c-T_m) / (kappa_m*eta_m))', (alpha_m*rho_m*g_sfc*(T_c-T_m) / (kappa_m*eta_m)).subs(T_l, T_l_exp).subs(dict_eval))\n",
    "print('(alpha_m*rho_m*g_sfc*(T_c-T_m))', (alpha_m*rho_m*g_sfc*(T_c-T_m)).subs(T_l, T_l_exp).subs(dict_eval))\n",
    "print((g_sfc).subs(dict_eval))\n",
    "print('T_l', T_l_exp.subs(dict_eval))\n",
    "print('dT, ', dT.subs(T_l, T_l_exp).subs(dict_eval))\n",
    "print('delta_bl, ', delta_bl.subs(T_l, T_l_exp).subs(dict_eval))\n",
    "print(q_bl.subs(T_l, T_l_exp).subs(dict_eval))\n",
    "\n",
    "# plug in values to make sure this is correct\n",
    "# check if this q_bl is actually right\n",
    "# then solve for D_l\n",
    "\n",
    "# expr = sp.solve(q_cond - q_bl, D_l) # no solution?\n",
    "\n",
    "print('D_l', expr[1].subs(T_l, T_l_exp).subs(dict(T_m=1750, T_c=2250, \n",
    "    g_sfc=3.382759198700019,H_0=4e-12, # final radiogenic heating in W/kg\n",
    "                             X_K=305, # initial abundance of K in wt ppm\n",
    "                             X_U=16e-3, # initial abundane of U in wt ppm \n",
    "                             X_Th=56e-3, # initial abundance of Th in wt ppm \n",
    "                             Ra_crit_u=450, \n",
    "                             R_p=3400e3, \n",
    "                             R_c=1700e3,\n",
    "                             alpha_m=2.5e-5, # thermal expansivity\n",
    "                             k_m=4, # silicate thermal conductivity\n",
    "                             CMF=0.24, # not used\n",
    "                             rho_c=7200, # core density\n",
    "                             rho_m=3500, # mantle density \n",
    "                             c_m=1142, #<----??? TODO: check if you need constant volume c_p\n",
    "                             c_c=840, # specific heat for core in J/K/kg\n",
    "                             k_lm=4, # thermal conduvtivity lower mantle\n",
    "                             a_rh=2.44, # for beta=1/3 \n",
    "                             Ea=300e3, # activation energy in J for viscosity law\n",
    "                             eta_0=1e21, # reference dynamic viscosity in Pa s\n",
    "                             T_ref=1600, # viscosity law reference temperature in K\n",
    "                             T_s=250, # fixed surface temp in K\n",
    "                             M_p=6.39e23, # only used for gravity in this case\n",
    "                              mu=80e9, A_rh=8.7e15, R_b = 8.314, Ra_crit = 450, kappa_m =1.0007505629221917e-06,\n",
    "                     h_rh=2.07e-3, B_rh=0.5e-9, m_rh=2.5)))\n",
    "\n",
    "sp.plot((q_cond - q_bl).subs(T_l, T_l_exp).subs(dict(T_m=1750, T_c=2250, \n",
    "    g_sfc=3.382759198700019,H_0=4e-12, # final radiogenic heating in W/kg\n",
    "                             X_K=305, # initial abundance of K in wt ppm\n",
    "                             X_U=16e-3, # initial abundane of U in wt ppm \n",
    "                             X_Th=56e-3, # initial abundance of Th in wt ppm \n",
    "                             Ra_crit_u=450, \n",
    "                             R_p=3400e3, \n",
    "                             R_c=1700e3,\n",
    "                             alpha_m=2.5e-5, # thermal expansivity\n",
    "                             k_m=4, # silicate thermal conductivity\n",
    "                             CMF=0.24, # not used\n",
    "                             rho_c=7200, # core density\n",
    "                             rho_m=3500, # mantle density \n",
    "                             c_m=1142, #<----??? TODO: check if you need constant volume c_p\n",
    "                             c_c=840, # specific heat for core in J/K/kg\n",
    "                             k_lm=4, # thermal conduvtivity lower mantle\n",
    "                             a_rh=2.44, # for beta=1/3 \n",
    "                             Ea=300e3, # activation energy in J for viscosity law\n",
    "                             eta_0=1e21, # reference dynamic viscosity in Pa s\n",
    "                             T_ref=1600, # viscosity law reference temperature in K\n",
    "                             T_s=250, # fixed surface temp in K\n",
    "                             M_p=6.39e23, # only used for gravity in this case\n",
    "                              mu=80e9, A_rh=8.7e15, R_b = 8.314, Ra_crit = 450, kappa_m =1.0007505629221917e-06,\n",
    "                     h_rh=2.07e-3, B_rh=0.5e-9, m_rh=2.5)))"
   ]
  },
  {
   "cell_type": "code",
   "execution_count": 37,
   "metadata": {},
   "outputs": [
    {
     "name": "stdout",
     "output_type": "stream",
     "text": [
      "expr [R_p - 0.111111111111111*(9.0*R_p**2 - 6.0e-14*(-377976314968461.0*R_p*T_l*k_m + 377976314968461.0*R_p*T_m*k_m + 300000000000000.0*T_l*k_m*(Ra_crit*kappa_m*mu*(h_rh/B_rh)**m_rh*exp(Ea/(R_b*T_m))/(A_rh*T_c*alpha_m*g_sfc*rho_m - A_rh*T_m*alpha_m*g_sfc*rho_m))**(1/3) - 300000000000000.0*T_s*k_m*(Ra_crit*kappa_m*mu*(h_rh/B_rh)**m_rh*exp(Ea/(R_b*T_m))/(A_rh*T_c*alpha_m*g_sfc*rho_m - A_rh*T_m*alpha_m*g_sfc*rho_m))**(1/3))/(H_0*rho_m*(Ra_crit*kappa_m*mu*(h_rh/B_rh)**m_rh*exp(Ea/(R_b*T_m))/(A_rh*T_c*alpha_m*g_sfc*rho_m - A_rh*T_m*alpha_m*g_sfc*rho_m))**(1/3)))/(-R_p**3 + (-(R_p**2 - 6.66666666666667e-15*(Ra_crit*kappa_m*mu*(h_rh/B_rh)**m_rh*exp(Ea/(R_b*T_m))/(A_rh*T_c*alpha_m*g_sfc*rho_m - A_rh*T_m*alpha_m*g_sfc*rho_m))**(-0.333333333333333)*(-377976314968461.0*R_p*T_l*k_m + 377976314968461.0*R_p*T_m*k_m + 300000000000000.0*T_l*k_m*(Ra_crit*kappa_m*mu*(h_rh/B_rh)**m_rh*exp(Ea/(R_b*T_m))/(A_rh*T_c*alpha_m*g_sfc*rho_m - A_rh*T_m*alpha_m*g_sfc*rho_m))**0.333333333333333 - 300000000000000.0*T_s*k_m*(Ra_crit*kappa_m*mu*(h_rh/B_rh)**m_rh*exp(Ea/(R_b*T_m))/(A_rh*T_c*alpha_m*g_sfc*rho_m - A_rh*T_m*alpha_m*g_sfc*rho_m))**0.333333333333333)/(H_0*rho_m))**3 + (-R_p**3 + 1.0e-14*R_p*(Ra_crit*kappa_m*mu*(h_rh/B_rh)**m_rh*exp(Ea/(R_b*T_m))/(A_rh*T_c*alpha_m*g_sfc*rho_m - A_rh*T_m*alpha_m*g_sfc*rho_m))**(-0.333333333333333)*(-377976314968461.0*R_p*T_l*k_m + 377976314968461.0*R_p*T_m*k_m + 300000000000000.0*T_l*k_m*(Ra_crit*kappa_m*mu*(h_rh/B_rh)**m_rh*exp(Ea/(R_b*T_m))/(A_rh*T_c*alpha_m*g_sfc*rho_m - A_rh*T_m*alpha_m*g_sfc*rho_m))**0.333333333333333 - 300000000000000.0*T_s*k_m*(Ra_crit*kappa_m*mu*(h_rh/B_rh)**m_rh*exp(Ea/(R_b*T_m))/(A_rh*T_c*alpha_m*g_sfc*rho_m - A_rh*T_m*alpha_m*g_sfc*rho_m))**0.333333333333333)/(H_0*rho_m) + 0.5*(-6.0*R_p*T_l*k_m + 6.0*R_p*T_s*k_m)/(H_0*rho_m))**2)**0.5 + 1.0e-14*R_p*(Ra_crit*kappa_m*mu*(h_rh/B_rh)**m_rh*exp(Ea/(R_b*T_m))/(A_rh*T_c*alpha_m*g_sfc*rho_m - A_rh*T_m*alpha_m*g_sfc*rho_m))**(-0.333333333333333)*(-377976314968461.0*R_p*T_l*k_m + 377976314968461.0*R_p*T_m*k_m + 300000000000000.0*T_l*k_m*(Ra_crit*kappa_m*mu*(h_rh/B_rh)**m_rh*exp(Ea/(R_b*T_m))/(A_rh*T_c*alpha_m*g_sfc*rho_m - A_rh*T_m*alpha_m*g_sfc*rho_m))**0.333333333333333 - 300000000000000.0*T_s*k_m*(Ra_crit*kappa_m*mu*(h_rh/B_rh)**m_rh*exp(Ea/(R_b*T_m))/(A_rh*T_c*alpha_m*g_sfc*rho_m - A_rh*T_m*alpha_m*g_sfc*rho_m))**0.333333333333333)/(H_0*rho_m) + 0.5*(-6.0*R_p*T_l*k_m + 6.0*R_p*T_s*k_m)/(H_0*rho_m))**(1/3) - 1.0*(-R_p**3 + (-(R_p**2 - 6.66666666666667e-15*(Ra_crit*kappa_m*mu*(h_rh/B_rh)**m_rh*exp(Ea/(R_b*T_m))/(A_rh*T_c*alpha_m*g_sfc*rho_m - A_rh*T_m*alpha_m*g_sfc*rho_m))**(-0.333333333333333)*(-377976314968461.0*R_p*T_l*k_m + 377976314968461.0*R_p*T_m*k_m + 300000000000000.0*T_l*k_m*(Ra_crit*kappa_m*mu*(h_rh/B_rh)**m_rh*exp(Ea/(R_b*T_m))/(A_rh*T_c*alpha_m*g_sfc*rho_m - A_rh*T_m*alpha_m*g_sfc*rho_m))**0.333333333333333 - 300000000000000.0*T_s*k_m*(Ra_crit*kappa_m*mu*(h_rh/B_rh)**m_rh*exp(Ea/(R_b*T_m))/(A_rh*T_c*alpha_m*g_sfc*rho_m - A_rh*T_m*alpha_m*g_sfc*rho_m))**0.333333333333333)/(H_0*rho_m))**3 + (-R_p**3 + 1.0e-14*R_p*(Ra_crit*kappa_m*mu*(h_rh/B_rh)**m_rh*exp(Ea/(R_b*T_m))/(A_rh*T_c*alpha_m*g_sfc*rho_m - A_rh*T_m*alpha_m*g_sfc*rho_m))**(-0.333333333333333)*(-377976314968461.0*R_p*T_l*k_m + 377976314968461.0*R_p*T_m*k_m + 300000000000000.0*T_l*k_m*(Ra_crit*kappa_m*mu*(h_rh/B_rh)**m_rh*exp(Ea/(R_b*T_m))/(A_rh*T_c*alpha_m*g_sfc*rho_m - A_rh*T_m*alpha_m*g_sfc*rho_m))**0.333333333333333 - 300000000000000.0*T_s*k_m*(Ra_crit*kappa_m*mu*(h_rh/B_rh)**m_rh*exp(Ea/(R_b*T_m))/(A_rh*T_c*alpha_m*g_sfc*rho_m - A_rh*T_m*alpha_m*g_sfc*rho_m))**0.333333333333333)/(H_0*rho_m) + 0.5*(-6.0*R_p*T_l*k_m + 6.0*R_p*T_s*k_m)/(H_0*rho_m))**2)**0.5 + 1.0e-14*R_p*(Ra_crit*kappa_m*mu*(h_rh/B_rh)**m_rh*exp(Ea/(R_b*T_m))/(A_rh*T_c*alpha_m*g_sfc*rho_m - A_rh*T_m*alpha_m*g_sfc*rho_m))**(-0.333333333333333)*(-377976314968461.0*R_p*T_l*k_m + 377976314968461.0*R_p*T_m*k_m + 300000000000000.0*T_l*k_m*(Ra_crit*kappa_m*mu*(h_rh/B_rh)**m_rh*exp(Ea/(R_b*T_m))/(A_rh*T_c*alpha_m*g_sfc*rho_m - A_rh*T_m*alpha_m*g_sfc*rho_m))**0.333333333333333 - 300000000000000.0*T_s*k_m*(Ra_crit*kappa_m*mu*(h_rh/B_rh)**m_rh*exp(Ea/(R_b*T_m))/(A_rh*T_c*alpha_m*g_sfc*rho_m - A_rh*T_m*alpha_m*g_sfc*rho_m))**0.333333333333333)/(H_0*rho_m) + 0.5*(-6.0*R_p*T_l*k_m + 6.0*R_p*T_s*k_m)/(H_0*rho_m))**(1/3), R_p - 0.111111111111111*(-0.5 - 0.866025403784439*I)*(9.0*R_p**2 - 6.0e-14*(-377976314968461.0*R_p*T_l*k_m + 377976314968461.0*R_p*T_m*k_m + 300000000000000.0*T_l*k_m*(Ra_crit*kappa_m*mu*(h_rh/B_rh)**m_rh*exp(Ea/(R_b*T_m))/(A_rh*T_c*alpha_m*g_sfc*rho_m - A_rh*T_m*alpha_m*g_sfc*rho_m))**(1/3) - 300000000000000.0*T_s*k_m*(Ra_crit*kappa_m*mu*(h_rh/B_rh)**m_rh*exp(Ea/(R_b*T_m))/(A_rh*T_c*alpha_m*g_sfc*rho_m - A_rh*T_m*alpha_m*g_sfc*rho_m))**(1/3))/(H_0*rho_m*(Ra_crit*kappa_m*mu*(h_rh/B_rh)**m_rh*exp(Ea/(R_b*T_m))/(A_rh*T_c*alpha_m*g_sfc*rho_m - A_rh*T_m*alpha_m*g_sfc*rho_m))**(1/3)))/(-R_p**3 + (-(R_p**2 - 6.66666666666667e-15*(Ra_crit*kappa_m*mu*(h_rh/B_rh)**m_rh*exp(Ea/(R_b*T_m))/(A_rh*T_c*alpha_m*g_sfc*rho_m - A_rh*T_m*alpha_m*g_sfc*rho_m))**(-0.333333333333333)*(-377976314968461.0*R_p*T_l*k_m + 377976314968461.0*R_p*T_m*k_m + 300000000000000.0*T_l*k_m*(Ra_crit*kappa_m*mu*(h_rh/B_rh)**m_rh*exp(Ea/(R_b*T_m))/(A_rh*T_c*alpha_m*g_sfc*rho_m - A_rh*T_m*alpha_m*g_sfc*rho_m))**0.333333333333333 - 300000000000000.0*T_s*k_m*(Ra_crit*kappa_m*mu*(h_rh/B_rh)**m_rh*exp(Ea/(R_b*T_m))/(A_rh*T_c*alpha_m*g_sfc*rho_m - A_rh*T_m*alpha_m*g_sfc*rho_m))**0.333333333333333)/(H_0*rho_m))**3 + (-R_p**3 + 1.0e-14*R_p*(Ra_crit*kappa_m*mu*(h_rh/B_rh)**m_rh*exp(Ea/(R_b*T_m))/(A_rh*T_c*alpha_m*g_sfc*rho_m - A_rh*T_m*alpha_m*g_sfc*rho_m))**(-0.333333333333333)*(-377976314968461.0*R_p*T_l*k_m + 377976314968461.0*R_p*T_m*k_m + 300000000000000.0*T_l*k_m*(Ra_crit*kappa_m*mu*(h_rh/B_rh)**m_rh*exp(Ea/(R_b*T_m))/(A_rh*T_c*alpha_m*g_sfc*rho_m - A_rh*T_m*alpha_m*g_sfc*rho_m))**0.333333333333333 - 300000000000000.0*T_s*k_m*(Ra_crit*kappa_m*mu*(h_rh/B_rh)**m_rh*exp(Ea/(R_b*T_m))/(A_rh*T_c*alpha_m*g_sfc*rho_m - A_rh*T_m*alpha_m*g_sfc*rho_m))**0.333333333333333)/(H_0*rho_m) + 0.5*(-6.0*R_p*T_l*k_m + 6.0*R_p*T_s*k_m)/(H_0*rho_m))**2)**0.5 + 1.0e-14*R_p*(Ra_crit*kappa_m*mu*(h_rh/B_rh)**m_rh*exp(Ea/(R_b*T_m))/(A_rh*T_c*alpha_m*g_sfc*rho_m - A_rh*T_m*alpha_m*g_sfc*rho_m))**(-0.333333333333333)*(-377976314968461.0*R_p*T_l*k_m + 377976314968461.0*R_p*T_m*k_m + 300000000000000.0*T_l*k_m*(Ra_crit*kappa_m*mu*(h_rh/B_rh)**m_rh*exp(Ea/(R_b*T_m))/(A_rh*T_c*alpha_m*g_sfc*rho_m - A_rh*T_m*alpha_m*g_sfc*rho_m))**0.333333333333333 - 300000000000000.0*T_s*k_m*(Ra_crit*kappa_m*mu*(h_rh/B_rh)**m_rh*exp(Ea/(R_b*T_m))/(A_rh*T_c*alpha_m*g_sfc*rho_m - A_rh*T_m*alpha_m*g_sfc*rho_m))**0.333333333333333)/(H_0*rho_m) + 0.5*(-6.0*R_p*T_l*k_m + 6.0*R_p*T_s*k_m)/(H_0*rho_m))**(1/3) - 1.0*(-0.5 + 0.866025403784439*I)*(-R_p**3 + (-(R_p**2 - 6.66666666666667e-15*(Ra_crit*kappa_m*mu*(h_rh/B_rh)**m_rh*exp(Ea/(R_b*T_m))/(A_rh*T_c*alpha_m*g_sfc*rho_m - A_rh*T_m*alpha_m*g_sfc*rho_m))**(-0.333333333333333)*(-377976314968461.0*R_p*T_l*k_m + 377976314968461.0*R_p*T_m*k_m + 300000000000000.0*T_l*k_m*(Ra_crit*kappa_m*mu*(h_rh/B_rh)**m_rh*exp(Ea/(R_b*T_m))/(A_rh*T_c*alpha_m*g_sfc*rho_m - A_rh*T_m*alpha_m*g_sfc*rho_m))**0.333333333333333 - 300000000000000.0*T_s*k_m*(Ra_crit*kappa_m*mu*(h_rh/B_rh)**m_rh*exp(Ea/(R_b*T_m))/(A_rh*T_c*alpha_m*g_sfc*rho_m - A_rh*T_m*alpha_m*g_sfc*rho_m))**0.333333333333333)/(H_0*rho_m))**3 + (-R_p**3 + 1.0e-14*R_p*(Ra_crit*kappa_m*mu*(h_rh/B_rh)**m_rh*exp(Ea/(R_b*T_m))/(A_rh*T_c*alpha_m*g_sfc*rho_m - A_rh*T_m*alpha_m*g_sfc*rho_m))**(-0.333333333333333)*(-377976314968461.0*R_p*T_l*k_m + 377976314968461.0*R_p*T_m*k_m + 300000000000000.0*T_l*k_m*(Ra_crit*kappa_m*mu*(h_rh/B_rh)**m_rh*exp(Ea/(R_b*T_m))/(A_rh*T_c*alpha_m*g_sfc*rho_m - A_rh*T_m*alpha_m*g_sfc*rho_m))**0.333333333333333 - 300000000000000.0*T_s*k_m*(Ra_crit*kappa_m*mu*(h_rh/B_rh)**m_rh*exp(Ea/(R_b*T_m))/(A_rh*T_c*alpha_m*g_sfc*rho_m - A_rh*T_m*alpha_m*g_sfc*rho_m))**0.333333333333333)/(H_0*rho_m) + 0.5*(-6.0*R_p*T_l*k_m + 6.0*R_p*T_s*k_m)/(H_0*rho_m))**2)**0.5 + 1.0e-14*R_p*(Ra_crit*kappa_m*mu*(h_rh/B_rh)**m_rh*exp(Ea/(R_b*T_m))/(A_rh*T_c*alpha_m*g_sfc*rho_m - A_rh*T_m*alpha_m*g_sfc*rho_m))**(-0.333333333333333)*(-377976314968461.0*R_p*T_l*k_m + 377976314968461.0*R_p*T_m*k_m + 300000000000000.0*T_l*k_m*(Ra_crit*kappa_m*mu*(h_rh/B_rh)**m_rh*exp(Ea/(R_b*T_m))/(A_rh*T_c*alpha_m*g_sfc*rho_m - A_rh*T_m*alpha_m*g_sfc*rho_m))**0.333333333333333 - 300000000000000.0*T_s*k_m*(Ra_crit*kappa_m*mu*(h_rh/B_rh)**m_rh*exp(Ea/(R_b*T_m))/(A_rh*T_c*alpha_m*g_sfc*rho_m - A_rh*T_m*alpha_m*g_sfc*rho_m))**0.333333333333333)/(H_0*rho_m) + 0.5*(-6.0*R_p*T_l*k_m + 6.0*R_p*T_s*k_m)/(H_0*rho_m))**(1/3), R_p - 0.111111111111111*(-0.5 + 0.866025403784439*I)*(9.0*R_p**2 - 6.0e-14*(-377976314968461.0*R_p*T_l*k_m + 377976314968461.0*R_p*T_m*k_m + 300000000000000.0*T_l*k_m*(Ra_crit*kappa_m*mu*(h_rh/B_rh)**m_rh*exp(Ea/(R_b*T_m))/(A_rh*T_c*alpha_m*g_sfc*rho_m - A_rh*T_m*alpha_m*g_sfc*rho_m))**(1/3) - 300000000000000.0*T_s*k_m*(Ra_crit*kappa_m*mu*(h_rh/B_rh)**m_rh*exp(Ea/(R_b*T_m))/(A_rh*T_c*alpha_m*g_sfc*rho_m - A_rh*T_m*alpha_m*g_sfc*rho_m))**(1/3))/(H_0*rho_m*(Ra_crit*kappa_m*mu*(h_rh/B_rh)**m_rh*exp(Ea/(R_b*T_m))/(A_rh*T_c*alpha_m*g_sfc*rho_m - A_rh*T_m*alpha_m*g_sfc*rho_m))**(1/3)))/(-R_p**3 + (-(R_p**2 - 6.66666666666667e-15*(Ra_crit*kappa_m*mu*(h_rh/B_rh)**m_rh*exp(Ea/(R_b*T_m))/(A_rh*T_c*alpha_m*g_sfc*rho_m - A_rh*T_m*alpha_m*g_sfc*rho_m))**(-0.333333333333333)*(-377976314968461.0*R_p*T_l*k_m + 377976314968461.0*R_p*T_m*k_m + 300000000000000.0*T_l*k_m*(Ra_crit*kappa_m*mu*(h_rh/B_rh)**m_rh*exp(Ea/(R_b*T_m))/(A_rh*T_c*alpha_m*g_sfc*rho_m - A_rh*T_m*alpha_m*g_sfc*rho_m))**0.333333333333333 - 300000000000000.0*T_s*k_m*(Ra_crit*kappa_m*mu*(h_rh/B_rh)**m_rh*exp(Ea/(R_b*T_m))/(A_rh*T_c*alpha_m*g_sfc*rho_m - A_rh*T_m*alpha_m*g_sfc*rho_m))**0.333333333333333)/(H_0*rho_m))**3 + (-R_p**3 + 1.0e-14*R_p*(Ra_crit*kappa_m*mu*(h_rh/B_rh)**m_rh*exp(Ea/(R_b*T_m))/(A_rh*T_c*alpha_m*g_sfc*rho_m - A_rh*T_m*alpha_m*g_sfc*rho_m))**(-0.333333333333333)*(-377976314968461.0*R_p*T_l*k_m + 377976314968461.0*R_p*T_m*k_m + 300000000000000.0*T_l*k_m*(Ra_crit*kappa_m*mu*(h_rh/B_rh)**m_rh*exp(Ea/(R_b*T_m))/(A_rh*T_c*alpha_m*g_sfc*rho_m - A_rh*T_m*alpha_m*g_sfc*rho_m))**0.333333333333333 - 300000000000000.0*T_s*k_m*(Ra_crit*kappa_m*mu*(h_rh/B_rh)**m_rh*exp(Ea/(R_b*T_m))/(A_rh*T_c*alpha_m*g_sfc*rho_m - A_rh*T_m*alpha_m*g_sfc*rho_m))**0.333333333333333)/(H_0*rho_m) + 0.5*(-6.0*R_p*T_l*k_m + 6.0*R_p*T_s*k_m)/(H_0*rho_m))**2)**0.5 + 1.0e-14*R_p*(Ra_crit*kappa_m*mu*(h_rh/B_rh)**m_rh*exp(Ea/(R_b*T_m))/(A_rh*T_c*alpha_m*g_sfc*rho_m - A_rh*T_m*alpha_m*g_sfc*rho_m))**(-0.333333333333333)*(-377976314968461.0*R_p*T_l*k_m + 377976314968461.0*R_p*T_m*k_m + 300000000000000.0*T_l*k_m*(Ra_crit*kappa_m*mu*(h_rh/B_rh)**m_rh*exp(Ea/(R_b*T_m))/(A_rh*T_c*alpha_m*g_sfc*rho_m - A_rh*T_m*alpha_m*g_sfc*rho_m))**0.333333333333333 - 300000000000000.0*T_s*k_m*(Ra_crit*kappa_m*mu*(h_rh/B_rh)**m_rh*exp(Ea/(R_b*T_m))/(A_rh*T_c*alpha_m*g_sfc*rho_m - A_rh*T_m*alpha_m*g_sfc*rho_m))**0.333333333333333)/(H_0*rho_m) + 0.5*(-6.0*R_p*T_l*k_m + 6.0*R_p*T_s*k_m)/(H_0*rho_m))**(1/3) - 1.0*(-0.5 - 0.866025403784439*I)*(-R_p**3 + (-(R_p**2 - 6.66666666666667e-15*(Ra_crit*kappa_m*mu*(h_rh/B_rh)**m_rh*exp(Ea/(R_b*T_m))/(A_rh*T_c*alpha_m*g_sfc*rho_m - A_rh*T_m*alpha_m*g_sfc*rho_m))**(-0.333333333333333)*(-377976314968461.0*R_p*T_l*k_m + 377976314968461.0*R_p*T_m*k_m + 300000000000000.0*T_l*k_m*(Ra_crit*kappa_m*mu*(h_rh/B_rh)**m_rh*exp(Ea/(R_b*T_m))/(A_rh*T_c*alpha_m*g_sfc*rho_m - A_rh*T_m*alpha_m*g_sfc*rho_m))**0.333333333333333 - 300000000000000.0*T_s*k_m*(Ra_crit*kappa_m*mu*(h_rh/B_rh)**m_rh*exp(Ea/(R_b*T_m))/(A_rh*T_c*alpha_m*g_sfc*rho_m - A_rh*T_m*alpha_m*g_sfc*rho_m))**0.333333333333333)/(H_0*rho_m))**3 + (-R_p**3 + 1.0e-14*R_p*(Ra_crit*kappa_m*mu*(h_rh/B_rh)**m_rh*exp(Ea/(R_b*T_m))/(A_rh*T_c*alpha_m*g_sfc*rho_m - A_rh*T_m*alpha_m*g_sfc*rho_m))**(-0.333333333333333)*(-377976314968461.0*R_p*T_l*k_m + 377976314968461.0*R_p*T_m*k_m + 300000000000000.0*T_l*k_m*(Ra_crit*kappa_m*mu*(h_rh/B_rh)**m_rh*exp(Ea/(R_b*T_m))/(A_rh*T_c*alpha_m*g_sfc*rho_m - A_rh*T_m*alpha_m*g_sfc*rho_m))**0.333333333333333 - 300000000000000.0*T_s*k_m*(Ra_crit*kappa_m*mu*(h_rh/B_rh)**m_rh*exp(Ea/(R_b*T_m))/(A_rh*T_c*alpha_m*g_sfc*rho_m - A_rh*T_m*alpha_m*g_sfc*rho_m))**0.333333333333333)/(H_0*rho_m) + 0.5*(-6.0*R_p*T_l*k_m + 6.0*R_p*T_s*k_m)/(H_0*rho_m))**2)**0.5 + 1.0e-14*R_p*(Ra_crit*kappa_m*mu*(h_rh/B_rh)**m_rh*exp(Ea/(R_b*T_m))/(A_rh*T_c*alpha_m*g_sfc*rho_m - A_rh*T_m*alpha_m*g_sfc*rho_m))**(-0.333333333333333)*(-377976314968461.0*R_p*T_l*k_m + 377976314968461.0*R_p*T_m*k_m + 300000000000000.0*T_l*k_m*(Ra_crit*kappa_m*mu*(h_rh/B_rh)**m_rh*exp(Ea/(R_b*T_m))/(A_rh*T_c*alpha_m*g_sfc*rho_m - A_rh*T_m*alpha_m*g_sfc*rho_m))**0.333333333333333 - 300000000000000.0*T_s*k_m*(Ra_crit*kappa_m*mu*(h_rh/B_rh)**m_rh*exp(Ea/(R_b*T_m))/(A_rh*T_c*alpha_m*g_sfc*rho_m - A_rh*T_m*alpha_m*g_sfc*rho_m))**0.333333333333333)/(H_0*rho_m) + 0.5*(-6.0*R_p*T_l*k_m + 6.0*R_p*T_s*k_m)/(H_0*rho_m))**(1/3)]\n"
     ]
    }
   ],
   "source": [
    "print('expr', expr)"
   ]
  },
  {
   "cell_type": "code",
   "execution_count": 2,
   "metadata": {},
   "outputs": [
    {
     "name": "stdout",
     "output_type": "stream",
     "text": [
      "T_m =  (Ea - sqrt(Ea*(Ea - 4*R_b*T_l*a_rh)))/(2*R_b*a_rh)\n"
     ]
    }
   ],
   "source": [
    "# expression for T_m\n",
    "\n",
    "T_l = T_m - a_rh*(R_b*T_m**2/Ea)\n",
    "T_m = sp.solve(T_m - a_rh*(R_b*T_m**2/Ea) - T_l, T_m)[0]\n",
    "print('T_m = ', T_m)\n",
    "c1 = k_m*(T_l - T_s - a0/(6*k_m)*(R_p**2 - R_l**2))/(R_l**-1 - R_p**-1)\n",
    "c2 = T_s + a0/(6*k_m)*R_p**2 - c1/(k_m*R_p)\n"
   ]
  },
  {
   "cell_type": "code",
   "execution_count": null,
   "metadata": {},
   "outputs": [],
   "source": [
    "# expression for qsfc - not going to be a self-consistent solution because D_l depends on T_m as an ODE\n",
    "T_l_exp = T_m - a_rh*(R_b*T_m**2/Ea)\n",
    "c1 = k_m*(T_l - T_s - a0/(6*k_m)*(R_p**2 - R_l**2))/(R_l**-1 - R_p**-1)\n",
    "dTdr = -a0/(3*k_m)*r - c1/(k_m*r**2)\n",
    "q_sfc_exp = -k_m*dTdr\n",
    "q_sfc_exp.subs(r, R_p).subs(T_l, T_l_exp).subs(R_l, R_l_exp)\n",
    "\n",
    "q_sfc = sp.Symbol('q_sfc')\n"
   ]
  },
  {
   "cell_type": "code",
   "execution_count": 4,
   "metadata": {},
   "outputs": [
    {
     "name": "stdout",
     "output_type": "stream",
     "text": [
      "\n",
      " q_bl =  1.25992104989487*R_b*T_m**2*a_rh*k_m*(Ea*Ra_crit*kappa_m*mu*(h_rh/B_rh)**m_rh*exp(Ea/(R_b*T_m))/(A_rh*R_b*T_m**2*a_rh*alpha_m*g_sfc*rho_m*(-R_c + R_l)**3))**(-0.333333333333333)/(Ea*(-R_c + R_l))\n",
      "\n",
      " dq_bl/dT_m = 1.25992104989487*A_rh*R_b**2*T_m**4*a_rh**2*alpha_m*g_sfc*k_m*rho_m*(h_rh/B_rh)**(-m_rh)*(Ea*Ra_crit*kappa_m*mu*(h_rh/B_rh)**m_rh*exp(Ea/(R_b*T_m))/(A_rh*R_b*T_m**2*a_rh*alpha_m*g_sfc*rho_m*(-R_c + R_l)**3))**(-0.333333333333333)*(-R_c + R_l)**2*(0.333333333333333*Ea**2*Ra_crit*kappa_m*mu*(h_rh/B_rh)**m_rh*exp(Ea/(R_b*T_m))/(A_rh*R_b**2*T_m**4*a_rh*alpha_m*g_sfc*rho_m*(-R_c + R_l)**3) + 0.666666666666667*Ea*Ra_crit*kappa_m*mu*(h_rh/B_rh)**m_rh*exp(Ea/(R_b*T_m))/(A_rh*R_b*T_m**3*a_rh*alpha_m*g_sfc*rho_m*(-R_c + R_l)**3))*exp(-Ea/(R_b*T_m))/(Ea**2*Ra_crit*kappa_m*mu) + 2.51984209978975*R_b*T_m*a_rh*k_m*(Ea*Ra_crit*kappa_m*mu*(h_rh/B_rh)**m_rh*exp(Ea/(R_b*T_m))/(A_rh*R_b*T_m**2*a_rh*alpha_m*g_sfc*rho_m*(-R_c + R_l)**3))**(-0.333333333333333)/(Ea*(-R_c + R_l))\n",
      "\n",
      " dq_bl/deta_0 = 0\n",
      "\n",
      " dq_bl/dEa = 1.25992104989487*A_rh*R_b**2*T_m**4*a_rh**2*alpha_m*g_sfc*k_m*rho_m*(h_rh/B_rh)**(-m_rh)*(Ea*Ra_crit*kappa_m*mu*(h_rh/B_rh)**m_rh*exp(Ea/(R_b*T_m))/(A_rh*R_b*T_m**2*a_rh*alpha_m*g_sfc*rho_m*(-R_c + R_l)**3))**(-0.333333333333333)*(-R_c + R_l)**2*(-0.333333333333333*Ea*Ra_crit*kappa_m*mu*(h_rh/B_rh)**m_rh*exp(Ea/(R_b*T_m))/(A_rh*R_b**2*T_m**3*a_rh*alpha_m*g_sfc*rho_m*(-R_c + R_l)**3) - 0.333333333333333*Ra_crit*kappa_m*mu*(h_rh/B_rh)**m_rh*exp(Ea/(R_b*T_m))/(A_rh*R_b*T_m**2*a_rh*alpha_m*g_sfc*rho_m*(-R_c + R_l)**3))*exp(-Ea/(R_b*T_m))/(Ea**2*Ra_crit*kappa_m*mu) - 1.25992104989487*R_b*T_m**2*a_rh*k_m*(Ea*Ra_crit*kappa_m*mu*(h_rh/B_rh)**m_rh*exp(Ea/(R_b*T_m))/(A_rh*R_b*T_m**2*a_rh*alpha_m*g_sfc*rho_m*(-R_c + R_l)**3))**(-0.333333333333333)/(Ea**2*(-R_c + R_l))\n",
      "\n",
      " dyn_top_rms = 0.707106781186548*C*(alpha_m*kappa_m*mu*q_bl*(h_rh/B_rh)**m_rh*exp(Ea/(R_b*T_m))/(A_rh*g_sfc*k_m*rho_m))**0.5\n"
     ]
    }
   ],
   "source": [
    "# expression for q_bl = f(T_m, eta_0, Ea...)\n",
    "sp.init_printing()\n",
    "\n",
    "\n",
    "T_l_exp = T_m - a_rh*(R_b*T_m**2/Ea)\n",
    "dT = T_m - T_l_exp\n",
    "Ra_rh = alpha_m*rho_m*g_sfc*dT*(R_l - R_c)**3 / (kappa_m*eta_m)\n",
    "\n",
    "TBL_u_exp = (R_l - R_c) * (Ra_crit/Ra_rh)**(1/3)\n",
    "q_bl_exp = k_m*dT/TBL_u_exp\n",
    "\n",
    "# q_bl_exp = q_bl_exp.subs(TBL_u, TBL_u_exp)\n",
    "# q_bl_exp = q_bl_exp.subs(T_l, T_l_exp)\n",
    "eta_m_exp = mu/(2*A_rh) * (h_rh/B_rh)**m_rh * sp.exp(Ea/(R_b*T_m))\n",
    "q_bl_exp = q_bl_exp.subs(eta_m, eta_m_exp)\n",
    "\n",
    "\n",
    "print('\\n q_bl = ', q_bl_exp)\n",
    "\n",
    "# differentiate\n",
    "\n",
    "dqdT = sp.diff(q_bl_exp, T_m)\n",
    "dqdeta0 = sp.diff(q_bl_exp, eta_0)\n",
    "dqdEa = sp.diff(q_bl_exp, Ea)\n",
    "\n",
    "print('\\n dq_bl/dT_m =', dqdT)\n",
    "print('\\n dq_bl/deta_0 =', dqdeta0)\n",
    "print('\\n dq_bl/dEa =', dqdEa)\n",
    "\n",
    "C = sp.Symbol('C')\n",
    "RMS_exp = C*((alpha_m*q_bl*eta_m*kappa_m)/(rho_m*g_sfc*k_m))**(1/2)\n",
    "RMS_exp = RMS_exp.subs(eta_m, eta_m_exp)\n",
    "print('\\n dyn_top_rms =', RMS_exp)\n",
    "\n",
    "\n",
    "\n",
    "\n",
    "# eta_m_solve = solve(q_bl_exp - q_bl, eta_m)\n",
    "# print('eta_m =', eta_m_solve)\n",
    "\n",
    "# T_m_solve = solve(q_bl_exp - q_bl, T_m) # no solution for T_m\n",
    "# print('T_m =', T_m_solve)"
   ]
  },
  {
   "cell_type": "code",
   "execution_count": null,
   "metadata": {},
   "outputs": [],
   "source": [
    "from sympy.plotting import plot\n",
    "\n",
    "plot(T_m, q_bl_exp)"
   ]
  },
  {
   "cell_type": "code",
   "execution_count": 15,
   "metadata": {},
   "outputs": [
    {
     "name": "stdout",
     "output_type": "stream",
     "text": [
      "eta_0(q_bl) =  [R_b**4*T_m**8*a_rh**4*alpha_m*g_sfc*k_m**3*rho_m*exp(-Ea*(T_0 - T_m)/(R_b*T_0*T_m))/(Ea**4*kappa_m*q_bl**3)]\n",
      "\n",
      " Ea(q_bl) =  [4.0*R_b*T_0*T_m*LambertW(0.25*T_m*a_rh*(alpha_m*g_sfc*k_m**3*rho_m/(eta_0*kappa_m*q_bl**3))**(1/4)*(-T_0 + T_m)/T_0)/(T_0 - T_m), 4.0*R_b*T_0*T_m*LambertW(0.25*T_m*a_rh*(alpha_m*g_sfc*k_m**3*rho_m/(eta_0*kappa_m*q_bl**3))**(1/4)*(T_0 - T_m)/T_0)/(T_0 - T_m), 4.0*R_b*T_0*T_m*LambertW(0.25*I*T_m*a_rh*(alpha_m*g_sfc*k_m**3*rho_m/(eta_0*kappa_m*q_bl**3))**(1/4)*(-T_0 + T_m)/T_0)/(T_0 - T_m), 4.0*R_b*T_0*T_m*LambertW(0.25*I*T_m*a_rh*(alpha_m*g_sfc*k_m**3*rho_m/(eta_0*kappa_m*q_bl**3))**(1/4)*(T_0 - T_m)/T_0)/(T_0 - T_m)]\n"
     ]
    },
    {
     "ename": "NotImplementedError",
     "evalue": "multiple generators [(R_b*T_m**2*a_rh*alpha_m*g_sfc*rho_m*exp(Ea/(R_b*T_0))*exp(-Ea/(R_b*T_m))/(Ea*eta_0*kappa_m))**(1/3), T_m]\nNo algorithms are implemented to solve equation -q_bl + R_b*T_m**2*a_rh*k_m*(R_b*T_m**2*a_rh*alpha_m*g_sfc*rho_m*exp(-Ea*(1/T_m - 1/T_0)/R_b)/(Ea*eta_0*kappa_m))**(1/3)/Ea",
     "output_type": "error",
     "traceback": [
      "\u001b[0;31m---------------------------------------------------------------------------\u001b[0m",
      "\u001b[0;31mNotImplementedError\u001b[0m                       Traceback (most recent call last)",
      "\u001b[0;32m<ipython-input-15-8631f6e5358c>\u001b[0m in \u001b[0;36m<module>\u001b[0;34m\u001b[0m\n\u001b[1;32m      7\u001b[0m \u001b[0mprint\u001b[0m\u001b[0;34m(\u001b[0m\u001b[0;34m'eta_0(q_bl) = '\u001b[0m\u001b[0;34m,\u001b[0m\u001b[0msp\u001b[0m\u001b[0;34m.\u001b[0m\u001b[0msolve\u001b[0m\u001b[0;34m(\u001b[0m\u001b[0mq_bl_exp\u001b[0m \u001b[0;34m-\u001b[0m \u001b[0mq_bl\u001b[0m\u001b[0;34m,\u001b[0m \u001b[0meta_0\u001b[0m\u001b[0;34m)\u001b[0m\u001b[0;34m)\u001b[0m\u001b[0;34m\u001b[0m\u001b[0;34m\u001b[0m\u001b[0m\n\u001b[1;32m      8\u001b[0m \u001b[0mprint\u001b[0m\u001b[0;34m(\u001b[0m\u001b[0;34m'\\n Ea(q_bl) = '\u001b[0m\u001b[0;34m,\u001b[0m\u001b[0msp\u001b[0m\u001b[0;34m.\u001b[0m\u001b[0msolve\u001b[0m\u001b[0;34m(\u001b[0m\u001b[0mq_bl_exp\u001b[0m \u001b[0;34m-\u001b[0m \u001b[0mq_bl\u001b[0m\u001b[0;34m,\u001b[0m \u001b[0mEa\u001b[0m\u001b[0;34m)\u001b[0m\u001b[0;34m)\u001b[0m\u001b[0;34m\u001b[0m\u001b[0;34m\u001b[0m\u001b[0m\n\u001b[0;32m----> 9\u001b[0;31m \u001b[0mprint\u001b[0m\u001b[0;34m(\u001b[0m\u001b[0;34m'\\n T_m(q_bl) = '\u001b[0m\u001b[0;34m,\u001b[0m\u001b[0msp\u001b[0m\u001b[0;34m.\u001b[0m\u001b[0msolve\u001b[0m\u001b[0;34m(\u001b[0m\u001b[0mq_bl_exp\u001b[0m \u001b[0;34m-\u001b[0m \u001b[0mq_bl\u001b[0m\u001b[0;34m,\u001b[0m \u001b[0mT_m\u001b[0m\u001b[0;34m)\u001b[0m\u001b[0;34m)\u001b[0m\u001b[0;34m\u001b[0m\u001b[0;34m\u001b[0m\u001b[0m\n\u001b[0m\u001b[1;32m     10\u001b[0m \u001b[0;34m\u001b[0m\u001b[0m\n\u001b[1;32m     11\u001b[0m \u001b[0;34m\u001b[0m\u001b[0m\n",
      "\u001b[0;32m~/.local/lib/python3.7/site-packages/sympy/solvers/solvers.py\u001b[0m in \u001b[0;36msolve\u001b[0;34m(f, *symbols, **flags)\u001b[0m\n\u001b[1;32m   1172\u001b[0m     \u001b[0;31m###########################################################################\u001b[0m\u001b[0;34m\u001b[0m\u001b[0;34m\u001b[0m\u001b[0;34m\u001b[0m\u001b[0m\n\u001b[1;32m   1173\u001b[0m     \u001b[0;32mif\u001b[0m \u001b[0mbare_f\u001b[0m\u001b[0;34m:\u001b[0m\u001b[0;34m\u001b[0m\u001b[0;34m\u001b[0m\u001b[0m\n\u001b[0;32m-> 1174\u001b[0;31m         \u001b[0msolution\u001b[0m \u001b[0;34m=\u001b[0m \u001b[0m_solve\u001b[0m\u001b[0;34m(\u001b[0m\u001b[0mf\u001b[0m\u001b[0;34m[\u001b[0m\u001b[0;36m0\u001b[0m\u001b[0;34m]\u001b[0m\u001b[0;34m,\u001b[0m \u001b[0;34m*\u001b[0m\u001b[0msymbols\u001b[0m\u001b[0;34m,\u001b[0m \u001b[0;34m**\u001b[0m\u001b[0mflags\u001b[0m\u001b[0;34m)\u001b[0m\u001b[0;34m\u001b[0m\u001b[0;34m\u001b[0m\u001b[0m\n\u001b[0m\u001b[1;32m   1175\u001b[0m     \u001b[0;32melse\u001b[0m\u001b[0;34m:\u001b[0m\u001b[0;34m\u001b[0m\u001b[0;34m\u001b[0m\u001b[0m\n\u001b[1;32m   1176\u001b[0m         \u001b[0msolution\u001b[0m \u001b[0;34m=\u001b[0m \u001b[0m_solve_system\u001b[0m\u001b[0;34m(\u001b[0m\u001b[0mf\u001b[0m\u001b[0;34m,\u001b[0m \u001b[0msymbols\u001b[0m\u001b[0;34m,\u001b[0m \u001b[0;34m**\u001b[0m\u001b[0mflags\u001b[0m\u001b[0;34m)\u001b[0m\u001b[0;34m\u001b[0m\u001b[0;34m\u001b[0m\u001b[0m\n",
      "\u001b[0;32m~/.local/lib/python3.7/site-packages/sympy/solvers/solvers.py\u001b[0m in \u001b[0;36m_solve\u001b[0;34m(f, *symbols, **flags)\u001b[0m\n\u001b[1;32m   1746\u001b[0m \u001b[0;34m\u001b[0m\u001b[0m\n\u001b[1;32m   1747\u001b[0m     \u001b[0;32mif\u001b[0m \u001b[0mresult\u001b[0m \u001b[0;32mis\u001b[0m \u001b[0;32mFalse\u001b[0m\u001b[0;34m:\u001b[0m\u001b[0;34m\u001b[0m\u001b[0;34m\u001b[0m\u001b[0m\n\u001b[0;32m-> 1748\u001b[0;31m         \u001b[0;32mraise\u001b[0m \u001b[0mNotImplementedError\u001b[0m\u001b[0;34m(\u001b[0m\u001b[0;34m'\\n'\u001b[0m\u001b[0;34m.\u001b[0m\u001b[0mjoin\u001b[0m\u001b[0;34m(\u001b[0m\u001b[0;34m[\u001b[0m\u001b[0mmsg\u001b[0m\u001b[0;34m,\u001b[0m \u001b[0mnot_impl_msg\u001b[0m \u001b[0;34m%\u001b[0m \u001b[0mf\u001b[0m\u001b[0;34m]\u001b[0m\u001b[0;34m)\u001b[0m\u001b[0;34m)\u001b[0m\u001b[0;34m\u001b[0m\u001b[0;34m\u001b[0m\u001b[0m\n\u001b[0m\u001b[1;32m   1749\u001b[0m \u001b[0;34m\u001b[0m\u001b[0m\n\u001b[1;32m   1750\u001b[0m     \u001b[0;32mif\u001b[0m \u001b[0mflags\u001b[0m\u001b[0;34m.\u001b[0m\u001b[0mget\u001b[0m\u001b[0;34m(\u001b[0m\u001b[0;34m'simplify'\u001b[0m\u001b[0;34m,\u001b[0m \u001b[0;32mTrue\u001b[0m\u001b[0;34m)\u001b[0m\u001b[0;34m:\u001b[0m\u001b[0;34m\u001b[0m\u001b[0;34m\u001b[0m\u001b[0m\n",
      "\u001b[0;31mNotImplementedError\u001b[0m: multiple generators [(R_b*T_m**2*a_rh*alpha_m*g_sfc*rho_m*exp(Ea/(R_b*T_0))*exp(-Ea/(R_b*T_m))/(Ea*eta_0*kappa_m))**(1/3), T_m]\nNo algorithms are implemented to solve equation -q_bl + R_b*T_m**2*a_rh*k_m*(R_b*T_m**2*a_rh*alpha_m*g_sfc*rho_m*exp(-Ea*(1/T_m - 1/T_0)/R_b)/(Ea*eta_0*kappa_m))**(1/3)/Ea"
     ]
    }
   ],
   "source": [
    "# # hold q_bl constant\n",
    "\n",
    "# assume q_sfc = q_bl for simplicity\n",
    "\n",
    "# solve both rheology eqns for q and plot seperately with same constant q\n",
    "\n",
    "print('eta_0(q_bl) = ',sp.solve(q_bl_exp - q_bl, eta_0))\n",
    "print('\\n Ea(q_bl) = ',sp.solve(q_bl_exp - q_bl, Ea))\n",
    "print('\\n T_m(q_bl) = ',sp.solve(q_bl_exp - q_bl, T_m))\n",
    "\n",
    "\n",
    "T_m = sp.Symbol('T_m')\n",
    "q_bl = sp.Symbol('q_bl')\n",
    "T_l_exp = T_m - a_rh*(R_b*T_m**2/Ea)\n",
    "TBL_u_exp = (rho_m*g_sfc*alpha_m*(T_m - T_l)/(eta_m*kappa_m))**(-1/3)\n",
    "eta_m_exp = eta_0*sp.exp(Ea/R_b * (T_m**-1 - T_0**-1))\n",
    "q_bl_exp = k_m*(T_m - T_l)/TBL_u\n",
    "q_bl_exp = q_bl_exp.subs(TBL_u, TBL_u_exp)\n",
    "q_bl_exp = q_bl_exp.subs(T_l, T_l_exp)\n",
    "print('\\n\\neta_0(eta) = ',sp.solve(q_bl_exp - q_bl, eta_m))\n",
    "print('\\n Ea(eta) = ',sp.solve(q_bl_exp - q_bl, eta_m))"
   ]
  },
  {
   "cell_type": "code",
   "execution_count": 6,
   "metadata": {},
   "outputs": [
    {
     "ename": "NameError",
     "evalue": "name 'exp' is not defined",
     "output_type": "error",
     "traceback": [
      "\u001b[0;31m---------------------------------------------------------------------------\u001b[0m",
      "\u001b[0;31mNameError\u001b[0m                                 Traceback (most recent call last)",
      "\u001b[0;32m<ipython-input-6-ef9e321308a0>\u001b[0m in \u001b[0;36m<module>\u001b[0;34m\u001b[0m\n\u001b[1;32m      1\u001b[0m \u001b[0;31m# when q_ubl = q_cond_lid\u001b[0m\u001b[0;34m\u001b[0m\u001b[0;34m\u001b[0m\u001b[0;34m\u001b[0m\u001b[0m\n\u001b[0;32m----> 2\u001b[0;31m \u001b[0mq_bl_exp\u001b[0m \u001b[0;34m=\u001b[0m \u001b[0mk_m\u001b[0m\u001b[0;34m*\u001b[0m\u001b[0malpha_m\u001b[0m\u001b[0;34m**\u001b[0m\u001b[0;34m(\u001b[0m\u001b[0;36m1\u001b[0m\u001b[0;34m/\u001b[0m\u001b[0;36m3\u001b[0m\u001b[0;34m)\u001b[0m\u001b[0;34m*\u001b[0m\u001b[0mrho_m\u001b[0m\u001b[0;34m**\u001b[0m\u001b[0;34m(\u001b[0m\u001b[0;36m1\u001b[0m\u001b[0;34m/\u001b[0m\u001b[0;36m3\u001b[0m\u001b[0;34m)\u001b[0m\u001b[0;34m*\u001b[0m\u001b[0mg_sfc\u001b[0m\u001b[0;34m**\u001b[0m\u001b[0;34m(\u001b[0m\u001b[0;36m1\u001b[0m\u001b[0;34m/\u001b[0m\u001b[0;36m3\u001b[0m\u001b[0;34m)\u001b[0m\u001b[0;34m*\u001b[0m\u001b[0;34m(\u001b[0m\u001b[0;36m2\u001b[0m\u001b[0;34m*\u001b[0m\u001b[0mA_rh\u001b[0m\u001b[0;34m)\u001b[0m\u001b[0;34m**\u001b[0m\u001b[0;34m(\u001b[0m\u001b[0;36m1\u001b[0m\u001b[0;34m/\u001b[0m\u001b[0;36m3\u001b[0m\u001b[0;34m)\u001b[0m\u001b[0;34m*\u001b[0m\u001b[0ma_rh\u001b[0m\u001b[0;34m**\u001b[0m\u001b[0;34m(\u001b[0m\u001b[0;36m4\u001b[0m\u001b[0;34m/\u001b[0m\u001b[0;36m3\u001b[0m\u001b[0;34m)\u001b[0m\u001b[0;34m*\u001b[0m\u001b[0mR_b\u001b[0m\u001b[0;34m**\u001b[0m\u001b[0;34m(\u001b[0m\u001b[0;36m4\u001b[0m\u001b[0;34m/\u001b[0m\u001b[0;36m3\u001b[0m\u001b[0;34m)\u001b[0m\u001b[0;34m*\u001b[0m\u001b[0mT_m\u001b[0m\u001b[0;34m**\u001b[0m\u001b[0;34m(\u001b[0m\u001b[0;36m8\u001b[0m\u001b[0;34m/\u001b[0m\u001b[0;36m3\u001b[0m\u001b[0;34m)\u001b[0m \u001b[0;34m/\u001b[0m \u001b[0;34m(\u001b[0m\u001b[0mRa_crit\u001b[0m\u001b[0;34m**\u001b[0m\u001b[0;34m(\u001b[0m\u001b[0;36m1\u001b[0m\u001b[0;34m/\u001b[0m\u001b[0;36m3\u001b[0m\u001b[0;34m)\u001b[0m\u001b[0;34m*\u001b[0m\u001b[0mkappa_m\u001b[0m\u001b[0;34m**\u001b[0m\u001b[0;34m(\u001b[0m\u001b[0;36m1\u001b[0m\u001b[0;34m/\u001b[0m\u001b[0;36m3\u001b[0m\u001b[0;34m)\u001b[0m\u001b[0;34m*\u001b[0m\u001b[0mmu\u001b[0m\u001b[0;34m**\u001b[0m\u001b[0;34m(\u001b[0m\u001b[0;36m1\u001b[0m\u001b[0;34m/\u001b[0m\u001b[0;36m3\u001b[0m\u001b[0;34m)\u001b[0m\u001b[0;34m*\u001b[0m\u001b[0;34m(\u001b[0m\u001b[0mh_rh\u001b[0m\u001b[0;34m/\u001b[0m\u001b[0mB_rh\u001b[0m\u001b[0;34m)\u001b[0m\u001b[0;34m**\u001b[0m\u001b[0;34m(\u001b[0m\u001b[0mm_rh\u001b[0m\u001b[0;34m/\u001b[0m\u001b[0;36m3\u001b[0m\u001b[0;34m)\u001b[0m\u001b[0;34m*\u001b[0m\u001b[0mEa\u001b[0m\u001b[0;34m**\u001b[0m\u001b[0;34m(\u001b[0m\u001b[0;36m4\u001b[0m\u001b[0;34m/\u001b[0m\u001b[0;36m3\u001b[0m\u001b[0;34m)\u001b[0m\u001b[0;34m*\u001b[0m\u001b[0mexp\u001b[0m\u001b[0;34m(\u001b[0m\u001b[0mEa\u001b[0m\u001b[0;34m/\u001b[0m\u001b[0;34m(\u001b[0m\u001b[0;36m3\u001b[0m\u001b[0;34m*\u001b[0m\u001b[0mp\u001b[0m\u001b[0;34m.\u001b[0m\u001b[0mR_b\u001b[0m\u001b[0;34m*\u001b[0m\u001b[0mT_m\u001b[0m\u001b[0;34m)\u001b[0m\u001b[0;34m)\u001b[0m\u001b[0;34m)\u001b[0m\u001b[0;34m\u001b[0m\u001b[0;34m\u001b[0m\u001b[0m\n\u001b[0m",
      "\u001b[0;31mNameError\u001b[0m: name 'exp' is not defined"
     ]
    }
   ],
   "source": [
    "# when q_ubl = q_cond_lid\n",
    "q_bl_exp = k_m*alpha_m**(1/3)*rho_m**(1/3)*g_sfc**(1/3)*(2*A_rh)**(1/3)*a_rh**(4/3)*R_b**(4/3)*T_m**(8/3) / (Ra_crit**(1/3)*kappa_m**(1/3)*mu**(1/3)*(h_rh/B_rh)**(m_rh/3)*Ea**(4/3)*exp(Ea/(3*p.R_b*T_m)))\n"
   ]
  },
  {
   "cell_type": "code",
   "execution_count": 3,
   "metadata": {
    "scrolled": true
   },
   "outputs": [
    {
     "name": "stdout",
     "output_type": "stream",
     "text": [
      "(k_m*(4*R_l**4 - 4*R_l**3*R_p - 3*R_l**2*R_p**2 + 2*R_l*R_p**3 + R_p**4)*(-60*Ea*R_c**6*k_m + 60*Ea*R_c**3*R_l**3*k_m + 30*Ea*R_c**3*R_l**2*R_p*k_m + 30*Ea*R_c**3*R_l*R_p**2*k_m - 30*Ea*R_l**5*R_p*k_m - 30*Ea*R_l**4*R_p**2*k_m + 120*R_b*R_c**3*R_l**3*T_avg*a_rh*k_m - 60*R_b*R_c**3*R_l**2*R_p*T_avg*a_rh*k_m - 60*R_b*R_c**3*R_l*R_p**2*T_avg*a_rh*k_m - 8*R_b*R_l**8*a0*a_rh + 14*R_b*R_l**7*R_p*a0*a_rh + 9*R_b*R_l**6*R_p**2*a0*a_rh - 20*R_b*R_l**5*R_p**3*a0*a_rh - 60*R_b*R_l**5*R_p*T_s*a_rh*k_m - 10*R_b*R_l**4*R_p**4*a0*a_rh - 30*R_b*R_l**4*R_p**2*T_s*a_rh*k_m + 18*R_b*R_l**3*R_p**5*a0*a_rh - 120*R_b*R_l**3*R_p**3*T_avg*a_rh*k_m + 180*R_b*R_l**3*R_p**3*T_s*a_rh*k_m + R_b*R_l**2*R_p**6*a0*a_rh + 60*R_b*R_l**2*R_p**4*T_avg*a_rh*k_m - 30*R_b*R_l**2*R_p**4*T_s*a_rh*k_m - 4*R_b*R_l*R_p**7*a0*a_rh + 60*R_b*R_l*R_p**5*T_avg*a_rh*k_m - 60*R_b*R_l*R_p**5*T_s*a_rh*k_m) - 2*sqrt(15)*sqrt(Ea*k_m**3*(60*Ea*R_c**6*k_m - 60*Ea*R_c**3*R_l**2*R_p*k_m - 60*Ea*R_c**3*R_l*R_p**2*k_m + 15*Ea*R_l**4*R_p**2*k_m + 30*Ea*R_l**3*R_p**3*k_m + 15*Ea*R_l**2*R_p**4*k_m - 240*R_b*R_c**3*R_l**3*T_avg*a_rh*k_m + 120*R_b*R_c**3*R_l**2*R_p*T_avg*a_rh*k_m + 120*R_b*R_c**3*R_l*R_p**2*T_avg*a_rh*k_m + 16*R_b*R_l**8*a0*a_rh - 28*R_b*R_l**7*R_p*a0*a_rh - 18*R_b*R_l**6*R_p**2*a0*a_rh + 40*R_b*R_l**5*R_p**3*a0*a_rh + 120*R_b*R_l**5*R_p*T_s*a_rh*k_m + 20*R_b*R_l**4*R_p**4*a0*a_rh + 60*R_b*R_l**4*R_p**2*T_s*a_rh*k_m - 36*R_b*R_l**3*R_p**5*a0*a_rh + 240*R_b*R_l**3*R_p**3*T_avg*a_rh*k_m - 360*R_b*R_l**3*R_p**3*T_s*a_rh*k_m - 2*R_b*R_l**2*R_p**6*a0*a_rh - 120*R_b*R_l**2*R_p**4*T_avg*a_rh*k_m + 60*R_b*R_l**2*R_p**4*T_s*a_rh*k_m + 8*R_b*R_l*R_p**7*a0*a_rh - 120*R_b*R_l*R_p**5*T_avg*a_rh*k_m + 120*R_b*R_l*R_p**5*T_s*a_rh*k_m))*(R_c - R_l)*(R_l - R_p)**2*(2*R_l + R_p)**2*(R_c**2 + R_c*R_l + R_l**2))/(30*R_b*R_l**2*a_rh*k_m**2*(R_l - R_p)**2*(2*R_l + R_p)**2*(4*R_l**4 - 4*R_l**3*R_p - 3*R_l**2*R_p**2 + 2*R_l*R_p**3 + R_p**4))\n"
     ]
    }
   ],
   "source": [
    "# when T_lid(z=R_l) = T_l\n",
    "\n",
    "exp = 3/(R_p**3 - R_c**3)*((T_m/3)*(R_l**3 - R_c**3) - a0/(30*k_m)*(R_p**5 - R_l**5) + c1/(2*k_m)*(R_p**2 - R_l**2)  + c2/3*(R_p**3 - R_l**3))\n",
    "root = sp.solve(exp - T_avg, T_l) #T_avg = (4*sp.pi/V) * I\n",
    "ans = root[0]\n",
    "# root = sp.solve(ans - T_l, T_m)\n",
    "print(root[0])"
   ]
  },
  {
   "cell_type": "code",
   "execution_count": null,
   "metadata": {},
   "outputs": [],
   "source": []
  }
 ],
 "metadata": {
  "kernelspec": {
   "display_name": "Python 3",
   "language": "python",
   "name": "python3"
  },
  "language_info": {
   "codemirror_mode": {
    "name": "ipython",
    "version": 3
   },
   "file_extension": ".py",
   "mimetype": "text/x-python",
   "name": "python",
   "nbconvert_exporter": "python",
   "pygments_lexer": "ipython3",
   "version": "3.8.5"
  }
 },
 "nbformat": 4,
 "nbformat_minor": 4
}
