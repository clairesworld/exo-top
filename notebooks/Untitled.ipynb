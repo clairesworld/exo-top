{
 "cells": [
  {
   "cell_type": "code",
   "execution_count": null,
   "metadata": {},
   "outputs": [],
   "source": [
    "%matplotlib inline\n",
    "import numpy as np\n",
    "import matplotlib.pyplot as plt\n",
    "from IPython.display import display, Math\n",
    "from matplotlib.font_manager import FontProperties\n",
    "from matplotlib import rc\n",
    "import matplotlib as mpl\n",
    "import sys\n",
    "sys.path.append(\"..\")\n",
    "from exotop import topo_1D_plots as plottop\n",
    "from exotop.model_1D import inputs as ins\n",
    "from exotop.model_1D import parameters as p\n",
    "\n",
    "# set paths\n",
    "# fig_path = '/space/cmg76/figs/' # office\n",
    "fig_path = 'figs/' # laptop#\n",
    "fig_format = '.png'\n",
    "benchmark_path = '../benchmarks/'\n",
    "\n",
    "# set mpl display parameters\n",
    "mpl.rcParams['axes.linewidth'] = 2  # set the value globally - for poster\n",
    "rc('font',**{'family':'serif','serif':['Times New Roman']})  # latex font for matplotlib CMU Serif Roman\n",
    "# rc('font',**{'family':'monospace','monospace':['Ubuntu Mono']})  # for computery poster \n",
    "rc('text', usetex=True)  # turn on for latexy font\n",
    "mpl.font_manager._rebuild()\n",
    "plt.style.use('dark_background')"
   ]
  }
 ],
 "metadata": {
  "kernelspec": {
   "display_name": "Python 3",
   "language": "python",
   "name": "python3"
  },
  "language_info": {
   "codemirror_mode": {
    "name": "ipython",
    "version": 3
   },
   "file_extension": ".py",
   "mimetype": "text/x-python",
   "name": "python",
   "nbconvert_exporter": "python",
   "pygments_lexer": "ipython3",
   "version": "3.7.6"
  }
 },
 "nbformat": 4,
 "nbformat_minor": 4
}
