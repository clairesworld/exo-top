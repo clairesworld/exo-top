{
 "cells": [
  {
   "cell_type": "code",
   "execution_count": 20,
   "metadata": {},
   "outputs": [],
   "source": [
    "import sympy as sp\n",
    "T_avg = sp.Symbol('T_avg')\n",
    "c1 = sp.Symbol('c1')\n",
    "c2 = sp.Symbol('c2')\n",
    "T_l = sp.Symbol('T_l')\n",
    "T_s = sp.Symbol('T_s')\n",
    "a0 = sp.Symbol('a0')\n",
    "k_m = sp.Symbol('k_m')\n",
    "R_p = sp.Symbol('R_p')\n",
    "R_l = sp.Symbol('R_l')\n",
    "R_c = sp.Symbol('R_c')\n",
    "V = sp.Symbol('V')\n",
    "T_m = sp.Symbol('T_m')\n",
    "a_rh = sp.Symbol('a_rh')\n",
    "R_b = sp.Symbol('R_b')\n",
    "Ea = sp.Symbol('Ea')"
   ]
  },
  {
   "cell_type": "code",
   "execution_count": 21,
   "metadata": {},
   "outputs": [
    {
     "name": "stdout",
     "output_type": "stream",
     "text": [
      "T_m =  (Ea - sqrt(Ea*(Ea - 4*R_b*T_l*a_rh)))/(2*R_b*a_rh)\n"
     ]
    }
   ],
   "source": [
    "# T_l = T_m - a_rh*(R_b*T_m**2/Ea)\n",
    "T_m = sp.solve(T_m - a_rh*(R_b*T_m**2/Ea) - T_l, T_m)[0]\n",
    "print('T_m = ', T_m)\n",
    "c1 = k_m*(T_l - T_s - a0/(6*k_m)*(R_p**2 - R_l**2))/(R_l**-1 - R_p**-1)\n",
    "c2 = T_s + a0/(6*k_m)*R_p**2 - c1/(k_m*R_p)\n",
    "V = 4/3*sp.pi*(R_p**3 - R_c**3)\n",
    "I = T_m/3*(R_l**3 - R_c**3) + c2*(R_p - R_l) + c1/k_m*(sp.log(R_p) - sp.log(R_l)) - a0/(3*k_m)*(R_p**3 - R_l**3)\n"
   ]
  },
  {
   "cell_type": "code",
   "execution_count": 22,
   "metadata": {
    "scrolled": true
   },
   "outputs": [
    {
     "name": "stdout",
     "output_type": "stream",
     "text": [
      "0.0555555555555556*(k_m*(R_l**2 - 2.0*R_l*R_p*log(R_l) + 2.0*R_l*R_p*log(R_p) - 2.0*R_l*R_p + R_p**2*log(R_l)**2 - 2.0*R_p**2*log(R_l)*log(R_p) + 2.0*R_p**2*log(R_l) + R_p**2*log(R_p)**2 - 2.0*R_p**2*log(R_p) + R_p**2)*(-Ea*R_c**6*R_l**2*k_m + 2.0*Ea*R_c**6*R_l*R_p*k_m - Ea*R_c**6*R_p**2*k_m + 2.0*Ea*R_c**3*R_l**5*k_m - 4.0*Ea*R_c**3*R_l**4*R_p*k_m + 2.0*Ea*R_c**3*R_l**3*R_p**2*k_m - 3.0*Ea*R_c**3*R_l**3*k_m + 3.0*Ea*R_c**3*R_l**2*R_p*k_m*log(R_l) - 3.0*Ea*R_c**3*R_l**2*R_p*k_m*log(R_p) + 6.0*Ea*R_c**3*R_l**2*R_p*k_m - 3.0*Ea*R_c**3*R_l*R_p**2*k_m*log(R_l) + 3.0*Ea*R_c**3*R_l*R_p**2*k_m*log(R_p) - 3.0*Ea*R_c**3*R_l*R_p**2*k_m - Ea*R_l**8*k_m + 2.0*Ea*R_l**7*R_p*k_m - Ea*R_l**6*R_p**2*k_m + 3.0*Ea*R_l**6*k_m - 3.0*Ea*R_l**5*R_p*k_m*log(R_l) + 3.0*Ea*R_l**5*R_p*k_m*log(R_p) - 6.0*Ea*R_l**5*R_p*k_m + 3.0*Ea*R_l**4*R_p**2*k_m*log(R_l) - 3.0*Ea*R_l**4*R_p**2*k_m*log(R_p) + 3.0*Ea*R_l**4*R_p**2*k_m + 6.0*R_b*R_c**3*R_l**3*T_avg*a_rh*k_m - 6.0*R_b*R_c**3*R_l**2*R_p*T_avg*a_rh*k_m*log(R_l) + 6.0*R_b*R_c**3*R_l**2*R_p*T_avg*a_rh*k_m*log(R_p) - 12.0*R_b*R_c**3*R_l**2*R_p*T_avg*a_rh*k_m + 6.0*R_b*R_c**3*R_l*R_p**2*T_avg*a_rh*k_m*log(R_l) - 6.0*R_b*R_c**3*R_l*R_p**2*T_avg*a_rh*k_m*log(R_p) + 6.0*R_b*R_c**3*R_l*R_p**2*T_avg*a_rh*k_m + 3.0*R_b*R_l**6*a0*a_rh - 6.0*R_b*R_l**5*R_p*a0*a_rh - 3.0*R_b*R_l**4*R_p**2*a0*a_rh*log(R_l)**2 + 6.0*R_b*R_l**4*R_p**2*a0*a_rh*log(R_l)*log(R_p) - 3.0*R_b*R_l**4*R_p**2*a0*a_rh*log(R_p)**2 + 3.0*R_b*R_l**4*R_p**2*a0*a_rh - 6.0*R_b*R_l**3*R_p**3*T_avg*a_rh*k_m - 3.0*R_b*R_l**3*R_p**3*a0*a_rh*log(R_l) + 3.0*R_b*R_l**3*R_p**3*a0*a_rh*log(R_p) - 3.0*R_b*R_l**3*R_p**3*a0*a_rh - 18.0*R_b*R_l**3*R_p*T_s*a_rh*k_m*log(R_l) + 18.0*R_b*R_l**3*R_p*T_s*a_rh*k_m*log(R_p) + 18.0*R_b*R_l**3*R_p*T_s*a_rh*k_m + 6.0*R_b*R_l**2*R_p**4*T_avg*a_rh*k_m*log(R_l) - 6.0*R_b*R_l**2*R_p**4*T_avg*a_rh*k_m*log(R_p) + 12.0*R_b*R_l**2*R_p**4*T_avg*a_rh*k_m + 3.0*R_b*R_l**2*R_p**4*a0*a_rh*log(R_l)**2 - 6.0*R_b*R_l**2*R_p**4*a0*a_rh*log(R_l)*log(R_p) + 6.0*R_b*R_l**2*R_p**4*a0*a_rh*log(R_l) + 3.0*R_b*R_l**2*R_p**4*a0*a_rh*log(R_p)**2 - 6.0*R_b*R_l**2*R_p**4*a0*a_rh*log(R_p) + 6.0*R_b*R_l**2*R_p**4*a0*a_rh + 18.0*R_b*R_l**2*R_p**2*T_s*a_rh*k_m*log(R_l)**2 - 36.0*R_b*R_l**2*R_p**2*T_s*a_rh*k_m*log(R_l)*log(R_p) + 18.0*R_b*R_l**2*R_p**2*T_s*a_rh*k_m*log(R_p)**2 - 36.0*R_b*R_l**2*R_p**2*T_s*a_rh*k_m - 6.0*R_b*R_l*R_p**5*T_avg*a_rh*k_m*log(R_l) + 6.0*R_b*R_l*R_p**5*T_avg*a_rh*k_m*log(R_p) - 6.0*R_b*R_l*R_p**5*T_avg*a_rh*k_m - 3.0*R_b*R_l*R_p**5*a0*a_rh*log(R_l) + 3.0*R_b*R_l*R_p**5*a0*a_rh*log(R_p) - 3.0*R_b*R_l*R_p**5*a0*a_rh + 18.0*R_b*R_l*R_p**3*T_s*a_rh*k_m*log(R_l) - 18.0*R_b*R_l*R_p**3*T_s*a_rh*k_m*log(R_p) + 18.0*R_b*R_l*R_p**3*T_s*a_rh*k_m) - sqrt(Ea*k_m**3*(Ea*R_c**6*R_l**2*k_m - 2.0*Ea*R_c**6*R_l*R_p*k_m + Ea*R_c**6*R_p**2*k_m - 2.0*Ea*R_c**3*R_l**5*k_m + 4.0*Ea*R_c**3*R_l**4*R_p*k_m - 2.0*Ea*R_c**3*R_l**3*R_p**2*k_m + 6.0*Ea*R_c**3*R_l**3*k_m - 6.0*Ea*R_c**3*R_l**2*R_p*k_m*log(R_l) + 6.0*Ea*R_c**3*R_l**2*R_p*k_m*log(R_p) - 12.0*Ea*R_c**3*R_l**2*R_p*k_m + 6.0*Ea*R_c**3*R_l*R_p**2*k_m*log(R_l) - 6.0*Ea*R_c**3*R_l*R_p**2*k_m*log(R_p) + 6.0*Ea*R_c**3*R_l*R_p**2*k_m + Ea*R_l**8*k_m - 2.0*Ea*R_l**7*R_p*k_m + Ea*R_l**6*R_p**2*k_m - 6.0*Ea*R_l**6*k_m + 6.0*Ea*R_l**5*R_p*k_m*log(R_l) - 6.0*Ea*R_l**5*R_p*k_m*log(R_p) + 12.0*Ea*R_l**5*R_p*k_m - 6.0*Ea*R_l**4*R_p**2*k_m*log(R_l) + 6.0*Ea*R_l**4*R_p**2*k_m*log(R_p) - 6.0*Ea*R_l**4*R_p**2*k_m + 9.0*Ea*R_l**4*k_m - 18.0*Ea*R_l**3*R_p*k_m*log(R_l) + 18.0*Ea*R_l**3*R_p*k_m*log(R_p) - 18.0*Ea*R_l**3*R_p*k_m + 9.0*Ea*R_l**2*R_p**2*k_m*log(R_l)**2 - 18.0*Ea*R_l**2*R_p**2*k_m*log(R_l)*log(R_p) + 18.0*Ea*R_l**2*R_p**2*k_m*log(R_l) + 9.0*Ea*R_l**2*R_p**2*k_m*log(R_p)**2 - 18.0*Ea*R_l**2*R_p**2*k_m*log(R_p) + 9.0*Ea*R_l**2*R_p**2*k_m - 12.0*R_b*R_c**3*R_l**3*T_avg*a_rh*k_m + 12.0*R_b*R_c**3*R_l**2*R_p*T_avg*a_rh*k_m*log(R_l) - 12.0*R_b*R_c**3*R_l**2*R_p*T_avg*a_rh*k_m*log(R_p) + 24.0*R_b*R_c**3*R_l**2*R_p*T_avg*a_rh*k_m - 12.0*R_b*R_c**3*R_l*R_p**2*T_avg*a_rh*k_m*log(R_l) + 12.0*R_b*R_c**3*R_l*R_p**2*T_avg*a_rh*k_m*log(R_p) - 12.0*R_b*R_c**3*R_l*R_p**2*T_avg*a_rh*k_m - 6.0*R_b*R_l**6*a0*a_rh + 12.0*R_b*R_l**5*R_p*a0*a_rh + 6.0*R_b*R_l**4*R_p**2*a0*a_rh*log(R_l)**2 - 12.0*R_b*R_l**4*R_p**2*a0*a_rh*log(R_l)*log(R_p) + 6.0*R_b*R_l**4*R_p**2*a0*a_rh*log(R_p)**2 - 6.0*R_b*R_l**4*R_p**2*a0*a_rh + 12.0*R_b*R_l**3*R_p**3*T_avg*a_rh*k_m + 6.0*R_b*R_l**3*R_p**3*a0*a_rh*log(R_l) - 6.0*R_b*R_l**3*R_p**3*a0*a_rh*log(R_p) + 6.0*R_b*R_l**3*R_p**3*a0*a_rh + 36.0*R_b*R_l**3*R_p*T_s*a_rh*k_m*log(R_l) - 36.0*R_b*R_l**3*R_p*T_s*a_rh*k_m*log(R_p) - 36.0*R_b*R_l**3*R_p*T_s*a_rh*k_m - 12.0*R_b*R_l**2*R_p**4*T_avg*a_rh*k_m*log(R_l) + 12.0*R_b*R_l**2*R_p**4*T_avg*a_rh*k_m*log(R_p) - 24.0*R_b*R_l**2*R_p**4*T_avg*a_rh*k_m - 6.0*R_b*R_l**2*R_p**4*a0*a_rh*log(R_l)**2 + 12.0*R_b*R_l**2*R_p**4*a0*a_rh*log(R_l)*log(R_p) - 12.0*R_b*R_l**2*R_p**4*a0*a_rh*log(R_l) - 6.0*R_b*R_l**2*R_p**4*a0*a_rh*log(R_p)**2 + 12.0*R_b*R_l**2*R_p**4*a0*a_rh*log(R_p) - 12.0*R_b*R_l**2*R_p**4*a0*a_rh - 36.0*R_b*R_l**2*R_p**2*T_s*a_rh*k_m*log(R_l)**2 + 72.0*R_b*R_l**2*R_p**2*T_s*a_rh*k_m*log(R_l)*log(R_p) - 36.0*R_b*R_l**2*R_p**2*T_s*a_rh*k_m*log(R_p)**2 + 72.0*R_b*R_l**2*R_p**2*T_s*a_rh*k_m + 12.0*R_b*R_l*R_p**5*T_avg*a_rh*k_m*log(R_l) - 12.0*R_b*R_l*R_p**5*T_avg*a_rh*k_m*log(R_p) + 12.0*R_b*R_l*R_p**5*T_avg*a_rh*k_m + 6.0*R_b*R_l*R_p**5*a0*a_rh*log(R_l) - 6.0*R_b*R_l*R_p**5*a0*a_rh*log(R_p) + 6.0*R_b*R_l*R_p**5*a0*a_rh - 36.0*R_b*R_l*R_p**3*T_s*a_rh*k_m*log(R_l) + 36.0*R_b*R_l*R_p**3*T_s*a_rh*k_m*log(R_p) - 36.0*R_b*R_l*R_p**3*T_s*a_rh*k_m))*(R_c - R_l)*(R_l - R_p)*(R_c**2 + R_c*R_l + R_l**2)*(R_l - R_p*log(R_l) + R_p*log(R_p) - R_p)**2)/(R_b*R_l**2*a_rh*k_m**2*(R_l - R_p*log(R_l) + R_p*log(R_p) - R_p)**2*(R_l**2 - 2.0*R_l*R_p*log(R_l) + 2.0*R_l*R_p*log(R_p) - 2.0*R_l*R_p + R_p**2*log(R_l)**2 - 2.0*R_p**2*log(R_l)*log(R_p) + 2.0*R_p**2*log(R_l) + R_p**2*log(R_p)**2 - 2.0*R_p**2*log(R_p) + R_p**2))\n"
     ]
    }
   ],
   "source": [
    "root = sp.solve((4*sp.pi/V)*I - T_avg, T_l) #T_avg = (4*sp.pi/V) * I\n",
    "ans = root[0]\n",
    "# root = sp.solve(ans - T_l, T_m)\n",
    "print(root[0])"
   ]
  }
 ],
 "metadata": {
  "kernelspec": {
   "display_name": "Python 3",
   "language": "python",
   "name": "python3"
  },
  "language_info": {
   "codemirror_mode": {
    "name": "ipython",
    "version": 3
   },
   "file_extension": ".py",
   "mimetype": "text/x-python",
   "name": "python",
   "nbconvert_exporter": "python",
   "pygments_lexer": "ipython3",
   "version": "3.7.4"
  }
 },
 "nbformat": 4,
 "nbformat_minor": 4
}
